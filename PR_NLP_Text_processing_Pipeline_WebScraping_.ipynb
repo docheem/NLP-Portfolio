{
  "nbformat": 4,
  "nbformat_minor": 0,
  "metadata": {
    "colab": {
      "provenance": [],
      "authorship_tag": "ABX9TyPut/KHtkTDSvuzRysAauVT",
      "include_colab_link": true
    },
    "kernelspec": {
      "name": "python3",
      "display_name": "Python 3"
    },
    "language_info": {
      "name": "python"
    }
  },
  "cells": [
    {
      "cell_type": "markdown",
      "metadata": {
        "id": "view-in-github",
        "colab_type": "text"
      },
      "source": [
        "<a href=\"https://colab.research.google.com/github/docheem/NLP-Portfolio/blob/main/PR_NLP_Text_processing_Pipeline_WebScraping_.ipynb\" target=\"_parent\"><img src=\"https://colab.research.google.com/assets/colab-badge.svg\" alt=\"Open In Colab\"/></a>"
      ]
    },
    {
      "cell_type": "markdown",
      "source": [
        "#Exploring and Processing Text Data\n",
        "\n",
        "Preprocessing involves transforming raw text data into an understandable format. Real-world data is often incomplete, inconsistent, and filled with a lot of noise, and is likely to contain many errors.\n",
        "\n",
        "Preprocessing is a proven method of resolving such issues. Data preprocessing prepares raw text data for further processing."
      ],
      "metadata": {
        "id": "eO14eK57YR98"
      }
    },
    {
      "cell_type": "markdown",
      "source": [
        "Converting Text Data to Lowercase"
      ],
      "metadata": {
        "id": "I3wgD6o_dB5S"
      }
    },
    {
      "cell_type": "code",
      "source": [
        "text = ['This is introduction to NLP',\n",
        "        'It is likely to be useful, to people ',\n",
        "        'Machine learning is the new electrcity',\n",
        "        'There would be less hype around AI and more action going forward',\n",
        "        'python is the best tool!','R is good langauage',\n",
        "        'I like this book',\n",
        "        'I want more books like this']"
      ],
      "metadata": {
        "id": "nQ93xhR5ctNF"
      },
      "execution_count": null,
      "outputs": []
    },
    {
      "cell_type": "code",
      "source": [
        "# converting the list to dataframe\n",
        "import pandas as pd\n",
        "\n",
        "\n",
        "lower_df = pd.DataFrame({'tweet':text})\n",
        "lower_df\n",
        "\n"
      ],
      "metadata": {
        "colab": {
          "base_uri": "https://localhost:8080/"
        },
        "id": "AY3vkprCctSD",
        "outputId": "84f252d5-d3a8-44f9-baf4-9129af1dcb02"
      },
      "execution_count": null,
      "outputs": [
        {
          "output_type": "execute_result",
          "data": {
            "text/plain": [
              "                                               tweet\n",
              "0                        This is introduction to NLP\n",
              "1              It is likely to be useful, to people \n",
              "2             Machine learning is the new electrcity\n",
              "3  There would be less hype around AI and more ac...\n",
              "4                           python is the best tool!\n",
              "5                                R is good langauage\n",
              "6                                   I like this book\n",
              "7                        I want more books like this"
            ],
            "text/html": [
              "\n",
              "  <div id=\"df-82b23361-d88e-4d86-bf07-815178f67948\">\n",
              "    <div class=\"colab-df-container\">\n",
              "      <div>\n",
              "<style scoped>\n",
              "    .dataframe tbody tr th:only-of-type {\n",
              "        vertical-align: middle;\n",
              "    }\n",
              "\n",
              "    .dataframe tbody tr th {\n",
              "        vertical-align: top;\n",
              "    }\n",
              "\n",
              "    .dataframe thead th {\n",
              "        text-align: right;\n",
              "    }\n",
              "</style>\n",
              "<table border=\"1\" class=\"dataframe\">\n",
              "  <thead>\n",
              "    <tr style=\"text-align: right;\">\n",
              "      <th></th>\n",
              "      <th>tweet</th>\n",
              "    </tr>\n",
              "  </thead>\n",
              "  <tbody>\n",
              "    <tr>\n",
              "      <th>0</th>\n",
              "      <td>This is introduction to NLP</td>\n",
              "    </tr>\n",
              "    <tr>\n",
              "      <th>1</th>\n",
              "      <td>It is likely to be useful, to people</td>\n",
              "    </tr>\n",
              "    <tr>\n",
              "      <th>2</th>\n",
              "      <td>Machine learning is the new electrcity</td>\n",
              "    </tr>\n",
              "    <tr>\n",
              "      <th>3</th>\n",
              "      <td>There would be less hype around AI and more ac...</td>\n",
              "    </tr>\n",
              "    <tr>\n",
              "      <th>4</th>\n",
              "      <td>python is the best tool!</td>\n",
              "    </tr>\n",
              "    <tr>\n",
              "      <th>5</th>\n",
              "      <td>R is good langauage</td>\n",
              "    </tr>\n",
              "    <tr>\n",
              "      <th>6</th>\n",
              "      <td>I like this book</td>\n",
              "    </tr>\n",
              "    <tr>\n",
              "      <th>7</th>\n",
              "      <td>I want more books like this</td>\n",
              "    </tr>\n",
              "  </tbody>\n",
              "</table>\n",
              "</div>\n",
              "      <button class=\"colab-df-convert\" onclick=\"convertToInteractive('df-82b23361-d88e-4d86-bf07-815178f67948')\"\n",
              "              title=\"Convert this dataframe to an interactive table.\"\n",
              "              style=\"display:none;\">\n",
              "        \n",
              "  <svg xmlns=\"http://www.w3.org/2000/svg\" height=\"24px\"viewBox=\"0 0 24 24\"\n",
              "       width=\"24px\">\n",
              "    <path d=\"M0 0h24v24H0V0z\" fill=\"none\"/>\n",
              "    <path d=\"M18.56 5.44l.94 2.06.94-2.06 2.06-.94-2.06-.94-.94-2.06-.94 2.06-2.06.94zm-11 1L8.5 8.5l.94-2.06 2.06-.94-2.06-.94L8.5 2.5l-.94 2.06-2.06.94zm10 10l.94 2.06.94-2.06 2.06-.94-2.06-.94-.94-2.06-.94 2.06-2.06.94z\"/><path d=\"M17.41 7.96l-1.37-1.37c-.4-.4-.92-.59-1.43-.59-.52 0-1.04.2-1.43.59L10.3 9.45l-7.72 7.72c-.78.78-.78 2.05 0 2.83L4 21.41c.39.39.9.59 1.41.59.51 0 1.02-.2 1.41-.59l7.78-7.78 2.81-2.81c.8-.78.8-2.07 0-2.86zM5.41 20L4 18.59l7.72-7.72 1.47 1.35L5.41 20z\"/>\n",
              "  </svg>\n",
              "      </button>\n",
              "      \n",
              "  <style>\n",
              "    .colab-df-container {\n",
              "      display:flex;\n",
              "      flex-wrap:wrap;\n",
              "      gap: 12px;\n",
              "    }\n",
              "\n",
              "    .colab-df-convert {\n",
              "      background-color: #E8F0FE;\n",
              "      border: none;\n",
              "      border-radius: 50%;\n",
              "      cursor: pointer;\n",
              "      display: none;\n",
              "      fill: #1967D2;\n",
              "      height: 32px;\n",
              "      padding: 0 0 0 0;\n",
              "      width: 32px;\n",
              "    }\n",
              "\n",
              "    .colab-df-convert:hover {\n",
              "      background-color: #E2EBFA;\n",
              "      box-shadow: 0px 1px 2px rgba(60, 64, 67, 0.3), 0px 1px 3px 1px rgba(60, 64, 67, 0.15);\n",
              "      fill: #174EA6;\n",
              "    }\n",
              "\n",
              "    [theme=dark] .colab-df-convert {\n",
              "      background-color: #3B4455;\n",
              "      fill: #D2E3FC;\n",
              "    }\n",
              "\n",
              "    [theme=dark] .colab-df-convert:hover {\n",
              "      background-color: #434B5C;\n",
              "      box-shadow: 0px 1px 3px 1px rgba(0, 0, 0, 0.15);\n",
              "      filter: drop-shadow(0px 1px 2px rgba(0, 0, 0, 0.3));\n",
              "      fill: #FFFFFF;\n",
              "    }\n",
              "  </style>\n",
              "\n",
              "      <script>\n",
              "        const buttonEl =\n",
              "          document.querySelector('#df-82b23361-d88e-4d86-bf07-815178f67948 button.colab-df-convert');\n",
              "        buttonEl.style.display =\n",
              "          google.colab.kernel.accessAllowed ? 'block' : 'none';\n",
              "\n",
              "        async function convertToInteractive(key) {\n",
              "          const element = document.querySelector('#df-82b23361-d88e-4d86-bf07-815178f67948');\n",
              "          const dataTable =\n",
              "            await google.colab.kernel.invokeFunction('convertToInteractive',\n",
              "                                                     [key], {});\n",
              "          if (!dataTable) return;\n",
              "\n",
              "          const docLinkHtml = 'Like what you see? Visit the ' +\n",
              "            '<a target=\"_blank\" href=https://colab.research.google.com/notebooks/data_table.ipynb>data table notebook</a>'\n",
              "            + ' to learn more about interactive tables.';\n",
              "          element.innerHTML = '';\n",
              "          dataTable['output_type'] = 'display_data';\n",
              "          await google.colab.output.renderOutput(dataTable, element);\n",
              "          const docLink = document.createElement('div');\n",
              "          docLink.innerHTML = docLinkHtml;\n",
              "          element.appendChild(docLink);\n",
              "        }\n",
              "      </script>\n",
              "    </div>\n",
              "  </div>\n",
              "  "
            ]
          },
          "metadata": {},
          "execution_count": 84
        }
      ]
    },
    {
      "cell_type": "markdown",
      "source": [
        " Execute the lower() function on the text data"
      ],
      "metadata": {
        "id": "EsAzdVNEg2IA"
      }
    },
    {
      "cell_type": "code",
      "source": [
        "x = 'TESTING'\n",
        "x2 = x.lower()\n",
        "print(x2)\n"
      ],
      "metadata": {
        "colab": {
          "base_uri": "https://localhost:8080/"
        },
        "id": "uQS17asIctUp",
        "outputId": "63eb2788-6f03-441b-fcc1-a51ece9b07b5"
      },
      "execution_count": null,
      "outputs": [
        {
          "output_type": "stream",
          "name": "stdout",
          "text": [
            "testing\n"
          ]
        }
      ]
    },
    {
      "cell_type": "code",
      "source": [
        "# perform lowercasing on a data frame\n",
        "\n",
        "lower_df['tweet'] = lower_df['tweet'].str.lower()\n",
        "\n",
        "\n",
        "#lower_df['tweet'] = lower_df['tweet'].apply(lambda x: \" \".join(x.lower() for x in x.split()))\n",
        "\n",
        "lower_df['tweet']\n"
      ],
      "metadata": {
        "colab": {
          "base_uri": "https://localhost:8080/"
        },
        "id": "-XwoyJ3bctXV",
        "outputId": "d56a0948-7670-415f-fe59-022741090fed"
      },
      "execution_count": null,
      "outputs": [
        {
          "output_type": "execute_result",
          "data": {
            "text/plain": [
              "0                          this is introduction to nlp\n",
              "1                it is likely to be useful, to people \n",
              "2               machine learning is the new electrcity\n",
              "3    there would be less hype around ai and more ac...\n",
              "4                             python is the best tool!\n",
              "5                                  r is good langauage\n",
              "6                                     i like this book\n",
              "7                          i want more books like this\n",
              "Name: tweet, dtype: object"
            ]
          },
          "metadata": {},
          "execution_count": 86
        }
      ]
    },
    {
      "cell_type": "markdown",
      "source": [
        "Removing Punctuation"
      ],
      "metadata": {
        "id": "VxJBmFgXh1en"
      }
    },
    {
      "cell_type": "code",
      "source": [
        "import re\n",
        "\n",
        "s = \"I. like. This book!\"\n",
        "s1 = re.sub(r'[^\\w\\s]','',s)\n",
        "s1"
      ],
      "metadata": {
        "colab": {
          "base_uri": "https://localhost:8080/"
        },
        "id": "2sVDhFWMctZ5",
        "outputId": "44598d28-2f67-4063-d823-4d25e599996e"
      },
      "execution_count": null,
      "outputs": [
        {
          "output_type": "execute_result",
          "data": {
            "text/plain": [
              "'I like This book'"
            ],
            "application/vnd.google.colaboratory.intrinsic+json": {
              "type": "string"
            }
          },
          "metadata": {},
          "execution_count": 87
        }
      ]
    },
    {
      "cell_type": "code",
      "source": [
        "# Applyinh this function to our tweets/df\n",
        "\n",
        "lower_df['tweet'] = lower_df['tweet'].str.replace('[^\\w\\s]','')\n",
        "lower_df['tweet']"
      ],
      "metadata": {
        "colab": {
          "base_uri": "https://localhost:8080/"
        },
        "id": "X_SlgMrpin4H",
        "outputId": "f297fd04-203f-4ba9-bf30-891d9affb746"
      },
      "execution_count": null,
      "outputs": [
        {
          "output_type": "stream",
          "name": "stderr",
          "text": [
            "<ipython-input-88-d19f427b08d9>:3: FutureWarning: The default value of regex will change from True to False in a future version.\n",
            "  lower_df['tweet'] = lower_df['tweet'].str.replace('[^\\w\\s]','')\n"
          ]
        },
        {
          "output_type": "execute_result",
          "data": {
            "text/plain": [
              "0                          this is introduction to nlp\n",
              "1                 it is likely to be useful to people \n",
              "2               machine learning is the new electrcity\n",
              "3    there would be less hype around ai and more ac...\n",
              "4                              python is the best tool\n",
              "5                                  r is good langauage\n",
              "6                                     i like this book\n",
              "7                          i want more books like this\n",
              "Name: tweet, dtype: object"
            ]
          },
          "metadata": {},
          "execution_count": 88
        }
      ]
    },
    {
      "cell_type": "markdown",
      "source": [
        "Removing Stop Words"
      ],
      "metadata": {
        "id": "UyAj5ZQDjHxQ"
      }
    },
    {
      "cell_type": "code",
      "source": [
        "import pandas as pd\n",
        "df = pd.DataFrame({'tweet':text})\n",
        "df"
      ],
      "metadata": {
        "colab": {
          "base_uri": "https://localhost:8080/"
        },
        "id": "ZK9lVEbMjIqy",
        "outputId": "6867af70-f58e-4da0-a8e6-5ef4541a4e78"
      },
      "execution_count": null,
      "outputs": [
        {
          "output_type": "execute_result",
          "data": {
            "text/plain": [
              "                                               tweet\n",
              "0                        This is introduction to NLP\n",
              "1              It is likely to be useful, to people \n",
              "2             Machine learning is the new electrcity\n",
              "3  There would be less hype around AI and more ac...\n",
              "4                           python is the best tool!\n",
              "5                                R is good langauage\n",
              "6                                   I like this book\n",
              "7                        I want more books like this"
            ],
            "text/html": [
              "\n",
              "  <div id=\"df-c555f1c5-980e-4b05-83cc-83cb1e0fa40b\">\n",
              "    <div class=\"colab-df-container\">\n",
              "      <div>\n",
              "<style scoped>\n",
              "    .dataframe tbody tr th:only-of-type {\n",
              "        vertical-align: middle;\n",
              "    }\n",
              "\n",
              "    .dataframe tbody tr th {\n",
              "        vertical-align: top;\n",
              "    }\n",
              "\n",
              "    .dataframe thead th {\n",
              "        text-align: right;\n",
              "    }\n",
              "</style>\n",
              "<table border=\"1\" class=\"dataframe\">\n",
              "  <thead>\n",
              "    <tr style=\"text-align: right;\">\n",
              "      <th></th>\n",
              "      <th>tweet</th>\n",
              "    </tr>\n",
              "  </thead>\n",
              "  <tbody>\n",
              "    <tr>\n",
              "      <th>0</th>\n",
              "      <td>This is introduction to NLP</td>\n",
              "    </tr>\n",
              "    <tr>\n",
              "      <th>1</th>\n",
              "      <td>It is likely to be useful, to people</td>\n",
              "    </tr>\n",
              "    <tr>\n",
              "      <th>2</th>\n",
              "      <td>Machine learning is the new electrcity</td>\n",
              "    </tr>\n",
              "    <tr>\n",
              "      <th>3</th>\n",
              "      <td>There would be less hype around AI and more ac...</td>\n",
              "    </tr>\n",
              "    <tr>\n",
              "      <th>4</th>\n",
              "      <td>python is the best tool!</td>\n",
              "    </tr>\n",
              "    <tr>\n",
              "      <th>5</th>\n",
              "      <td>R is good langauage</td>\n",
              "    </tr>\n",
              "    <tr>\n",
              "      <th>6</th>\n",
              "      <td>I like this book</td>\n",
              "    </tr>\n",
              "    <tr>\n",
              "      <th>7</th>\n",
              "      <td>I want more books like this</td>\n",
              "    </tr>\n",
              "  </tbody>\n",
              "</table>\n",
              "</div>\n",
              "      <button class=\"colab-df-convert\" onclick=\"convertToInteractive('df-c555f1c5-980e-4b05-83cc-83cb1e0fa40b')\"\n",
              "              title=\"Convert this dataframe to an interactive table.\"\n",
              "              style=\"display:none;\">\n",
              "        \n",
              "  <svg xmlns=\"http://www.w3.org/2000/svg\" height=\"24px\"viewBox=\"0 0 24 24\"\n",
              "       width=\"24px\">\n",
              "    <path d=\"M0 0h24v24H0V0z\" fill=\"none\"/>\n",
              "    <path d=\"M18.56 5.44l.94 2.06.94-2.06 2.06-.94-2.06-.94-.94-2.06-.94 2.06-2.06.94zm-11 1L8.5 8.5l.94-2.06 2.06-.94-2.06-.94L8.5 2.5l-.94 2.06-2.06.94zm10 10l.94 2.06.94-2.06 2.06-.94-2.06-.94-.94-2.06-.94 2.06-2.06.94z\"/><path d=\"M17.41 7.96l-1.37-1.37c-.4-.4-.92-.59-1.43-.59-.52 0-1.04.2-1.43.59L10.3 9.45l-7.72 7.72c-.78.78-.78 2.05 0 2.83L4 21.41c.39.39.9.59 1.41.59.51 0 1.02-.2 1.41-.59l7.78-7.78 2.81-2.81c.8-.78.8-2.07 0-2.86zM5.41 20L4 18.59l7.72-7.72 1.47 1.35L5.41 20z\"/>\n",
              "  </svg>\n",
              "      </button>\n",
              "      \n",
              "  <style>\n",
              "    .colab-df-container {\n",
              "      display:flex;\n",
              "      flex-wrap:wrap;\n",
              "      gap: 12px;\n",
              "    }\n",
              "\n",
              "    .colab-df-convert {\n",
              "      background-color: #E8F0FE;\n",
              "      border: none;\n",
              "      border-radius: 50%;\n",
              "      cursor: pointer;\n",
              "      display: none;\n",
              "      fill: #1967D2;\n",
              "      height: 32px;\n",
              "      padding: 0 0 0 0;\n",
              "      width: 32px;\n",
              "    }\n",
              "\n",
              "    .colab-df-convert:hover {\n",
              "      background-color: #E2EBFA;\n",
              "      box-shadow: 0px 1px 2px rgba(60, 64, 67, 0.3), 0px 1px 3px 1px rgba(60, 64, 67, 0.15);\n",
              "      fill: #174EA6;\n",
              "    }\n",
              "\n",
              "    [theme=dark] .colab-df-convert {\n",
              "      background-color: #3B4455;\n",
              "      fill: #D2E3FC;\n",
              "    }\n",
              "\n",
              "    [theme=dark] .colab-df-convert:hover {\n",
              "      background-color: #434B5C;\n",
              "      box-shadow: 0px 1px 3px 1px rgba(0, 0, 0, 0.15);\n",
              "      filter: drop-shadow(0px 1px 2px rgba(0, 0, 0, 0.3));\n",
              "      fill: #FFFFFF;\n",
              "    }\n",
              "  </style>\n",
              "\n",
              "      <script>\n",
              "        const buttonEl =\n",
              "          document.querySelector('#df-c555f1c5-980e-4b05-83cc-83cb1e0fa40b button.colab-df-convert');\n",
              "        buttonEl.style.display =\n",
              "          google.colab.kernel.accessAllowed ? 'block' : 'none';\n",
              "\n",
              "        async function convertToInteractive(key) {\n",
              "          const element = document.querySelector('#df-c555f1c5-980e-4b05-83cc-83cb1e0fa40b');\n",
              "          const dataTable =\n",
              "            await google.colab.kernel.invokeFunction('convertToInteractive',\n",
              "                                                     [key], {});\n",
              "          if (!dataTable) return;\n",
              "\n",
              "          const docLinkHtml = 'Like what you see? Visit the ' +\n",
              "            '<a target=\"_blank\" href=https://colab.research.google.com/notebooks/data_table.ipynb>data table notebook</a>'\n",
              "            + ' to learn more about interactive tables.';\n",
              "          element.innerHTML = '';\n",
              "          dataTable['output_type'] = 'display_data';\n",
              "          await google.colab.output.renderOutput(dataTable, element);\n",
              "          const docLink = document.createElement('div');\n",
              "          docLink.innerHTML = docLinkHtml;\n",
              "          element.appendChild(docLink);\n",
              "        }\n",
              "      </script>\n",
              "    </div>\n",
              "  </div>\n",
              "  "
            ]
          },
          "metadata": {},
          "execution_count": 89
        }
      ]
    },
    {
      "cell_type": "code",
      "source": [
        "!pip install nltk\n",
        "import nltk\n",
        "nltk.download('stopwords')\n",
        "from nltk.corpus import stopwords\n"
      ],
      "metadata": {
        "colab": {
          "base_uri": "https://localhost:8080/"
        },
        "id": "O0PJRzndjItH",
        "outputId": "00e409d0-3bcc-498b-8b57-7e229a0c9c52"
      },
      "execution_count": null,
      "outputs": [
        {
          "output_type": "stream",
          "name": "stdout",
          "text": [
            "Looking in indexes: https://pypi.org/simple, https://us-python.pkg.dev/colab-wheels/public/simple/\n",
            "Requirement already satisfied: nltk in /usr/local/lib/python3.9/dist-packages (3.7)\n",
            "Requirement already satisfied: joblib in /usr/local/lib/python3.9/dist-packages (from nltk) (1.2.0)\n",
            "Requirement already satisfied: regex>=2021.8.3 in /usr/local/lib/python3.9/dist-packages (from nltk) (2022.6.2)\n",
            "Requirement already satisfied: click in /usr/local/lib/python3.9/dist-packages (from nltk) (8.1.3)\n",
            "Requirement already satisfied: tqdm in /usr/local/lib/python3.9/dist-packages (from nltk) (4.65.0)\n"
          ]
        },
        {
          "output_type": "stream",
          "name": "stderr",
          "text": [
            "[nltk_data] Downloading package stopwords to /root/nltk_data...\n",
            "[nltk_data]   Package stopwords is already up-to-date!\n"
          ]
        }
      ]
    },
    {
      "cell_type": "code",
      "source": [
        "stop = stopwords.words('english')\n",
        "\n",
        "df['tweet'] = df['tweet'].apply(lambda x: \" \".join(x for x in x.split() if x not in stop))\n",
        "\n",
        "\n",
        "df['tweet']"
      ],
      "metadata": {
        "colab": {
          "base_uri": "https://localhost:8080/"
        },
        "id": "1WvZYQzVjIvk",
        "outputId": "1bbca99a-ba93-472a-84cf-b388c8d65503"
      },
      "execution_count": null,
      "outputs": [
        {
          "output_type": "execute_result",
          "data": {
            "text/plain": [
              "0                                This introduction NLP\n",
              "1                             It likely useful, people\n",
              "2                      Machine learning new electrcity\n",
              "3    There would less hype around AI action going f...\n",
              "4                                    python best tool!\n",
              "5                                     R good langauage\n",
              "6                                          I like book\n",
              "7                                    I want books like\n",
              "Name: tweet, dtype: object"
            ]
          },
          "metadata": {},
          "execution_count": 91
        }
      ]
    },
    {
      "cell_type": "markdown",
      "source": [
        "Standardizing Text\n",
        "\n",
        "Most textual data is in customer reviews, blogs, or tweets, where there is a high chance of people using short words and abbreviations to represent the same meaning. This may help the downstream process to easily understand and resolve the semantics of the text.\n"
      ],
      "metadata": {
        "id": "e7UwuvbWl73e"
      }
    },
    {
      "cell_type": "code",
      "source": [
        "#  Creating a custom lookup dictionary\n",
        "\n",
        "lookup_dict = {'nlp':'natural language processing',\n",
        "               'ur':'your',\n",
        "               \"wbu\" : \"what about you\"}\n",
        ""
      ],
      "metadata": {
        "id": "RH7C3PYVjIyL"
      },
      "execution_count": null,
      "outputs": []
    },
    {
      "cell_type": "code",
      "source": [
        "import re\n",
        "\n",
        "def text_std(input_text):\n",
        "\n",
        " words = input_text.split()\n",
        "\n",
        " new_words = []\n",
        "\n",
        " for word in words:\n",
        "\n",
        "     word = re.sub(r'[^\\w\\s]','',word)\n",
        "\n",
        "     if word.lower() in lookup_dict:\n",
        "\n",
        "         word = lookup_dict[word.lower()]\n",
        "\n",
        "         new_words.append(word)\n",
        "\n",
        "         new_text = \" \".join(new_words)\n",
        "\n",
        " return new_text\n",
        "\n",
        "text_std(\"I like nlp it's ur choice\")"
      ],
      "metadata": {
        "colab": {
          "base_uri": "https://localhost:8080/"
        },
        "id": "2RkBZY0-jIzT",
        "outputId": "34e4d6f8-460a-4df1-fc2d-547b5cf26ddc"
      },
      "execution_count": null,
      "outputs": [
        {
          "output_type": "execute_result",
          "data": {
            "text/plain": [
              "'natural language processing your'"
            ],
            "application/vnd.google.colaboratory.intrinsic+json": {
              "type": "string"
            }
          },
          "metadata": {},
          "execution_count": 93
        }
      ]
    },
    {
      "cell_type": "markdown",
      "source": [
        "Correcting Spelling\n",
        "\n",
        "Most text data is in customer reviews, blogs, or tweets, where there is a high chance of people using short words and making typo errors.\n",
        "\n",
        "This reduces multiple copies of words, which represent the same meaning. For example, “proccessing” and “processing” are treated as different words even if used in the same sense.\n",
        "\n",
        "Note: that abbreviations should be handled before this step, or else the corrector would fail at times"
      ],
      "metadata": {
        "id": "qdLXNmfvnJPh"
      }
    },
    {
      "cell_type": "code",
      "source": [
        "#convert list to dataframe\n",
        "import pandas as pd\n",
        "df = pd.DataFrame({'tweet':text})\n",
        "print(df)"
      ],
      "metadata": {
        "colab": {
          "base_uri": "https://localhost:8080/"
        },
        "id": "IgutULIsjI3-",
        "outputId": "5a766073-1993-49e0-aa47-a85075ff1e7c"
      },
      "execution_count": null,
      "outputs": [
        {
          "output_type": "stream",
          "name": "stdout",
          "text": [
            "                                               tweet\n",
            "0                        This is introduction to NLP\n",
            "1              It is likely to be useful, to people \n",
            "2             Machine learning is the new electrcity\n",
            "3  There would be less hype around AI and more ac...\n",
            "4                           python is the best tool!\n",
            "5                                R is good langauage\n",
            "6                                   I like this book\n",
            "7                        I want more books like this\n"
          ]
        }
      ]
    },
    {
      "cell_type": "code",
      "source": [
        "# Execute spelling correction on the text data\n",
        "\n",
        "#Install textblob library\n",
        "!pip install textblob"
      ],
      "metadata": {
        "colab": {
          "base_uri": "https://localhost:8080/"
        },
        "id": "59Dl5SjGjI6h",
        "outputId": "9a2ed0b8-f888-4320-c6cc-f2355f29b5f6"
      },
      "execution_count": null,
      "outputs": [
        {
          "output_type": "stream",
          "name": "stdout",
          "text": [
            "Looking in indexes: https://pypi.org/simple, https://us-python.pkg.dev/colab-wheels/public/simple/\n",
            "Requirement already satisfied: textblob in /usr/local/lib/python3.9/dist-packages (0.15.3)\n",
            "Requirement already satisfied: nltk>=3.1 in /usr/local/lib/python3.9/dist-packages (from textblob) (3.7)\n",
            "Requirement already satisfied: regex>=2021.8.3 in /usr/local/lib/python3.9/dist-packages (from nltk>=3.1->textblob) (2022.6.2)\n",
            "Requirement already satisfied: joblib in /usr/local/lib/python3.9/dist-packages (from nltk>=3.1->textblob) (1.2.0)\n",
            "Requirement already satisfied: click in /usr/local/lib/python3.9/dist-packages (from nltk>=3.1->textblob) (8.1.3)\n",
            "Requirement already satisfied: tqdm in /usr/local/lib/python3.9/dist-packages (from nltk>=3.1->textblob) (4.65.0)\n"
          ]
        }
      ]
    },
    {
      "cell_type": "code",
      "source": [
        "#import libraries and use 'correct' function\n",
        "\n",
        "from textblob import TextBlob\n"
      ],
      "metadata": {
        "id": "uLQrYwtVnxoH"
      },
      "execution_count": null,
      "outputs": []
    },
    {
      "cell_type": "code",
      "source": [
        "df['tweet'].apply(lambda x: str(TextBlob(x).correct()))\n",
        "\n",
        "#You can also use autocorrect library as shown below\n",
        "\n",
        "#install autocorrect\n",
        "\n",
        "!pip install autocorrect\n",
        "\n",
        "\n",
        "from autocorrect import Speller\n",
        "\n",
        "speller = Speller()\n",
        "result = speller('mussage')\n",
        "result2 = speller('sirvice')#, 'sirvice')\n",
        "print(result)\n",
        "print(result2)\n"
      ],
      "metadata": {
        "colab": {
          "base_uri": "https://localhost:8080/"
        },
        "id": "lMgG4ck0n0J3",
        "outputId": "db350521-6140-47b1-bcd5-12e14e1ce411"
      },
      "execution_count": null,
      "outputs": [
        {
          "output_type": "stream",
          "name": "stdout",
          "text": [
            "Looking in indexes: https://pypi.org/simple, https://us-python.pkg.dev/colab-wheels/public/simple/\n",
            "Requirement already satisfied: autocorrect in /usr/local/lib/python3.9/dist-packages (2.6.1)\n",
            "message\n",
            "service\n"
          ]
        }
      ]
    },
    {
      "cell_type": "markdown",
      "source": [
        "Tokenizing Text\n",
        "\n",
        "Tokenization refers to splitting text into minimal meaningful units. There is a sentence tokenizer and a word tokenizer.\n",
        "\n",
        "It is a mandatory step in text preprocessing for any kind of analysis. There are many libraries to perform tokenization like NLTK, spaCy, and TextBlob"
      ],
      "metadata": {
        "id": "gzh-lBsmyETy"
      }
    },
    {
      "cell_type": "code",
      "source": [
        "#convert list to dataframe\n",
        "import pandas as pd\n",
        "df = pd.DataFrame({'tweet':text})\n",
        "print(df)"
      ],
      "metadata": {
        "colab": {
          "base_uri": "https://localhost:8080/"
        },
        "id": "OU5oFQOlyJ8c",
        "outputId": "221b60d0-dcb8-4b9a-fced-60b9d578e0b0"
      },
      "execution_count": null,
      "outputs": [
        {
          "output_type": "stream",
          "name": "stdout",
          "text": [
            "                                               tweet\n",
            "0                        This is introduction to NLP\n",
            "1              It is likely to be useful, to people \n",
            "2             Machine learning is the new electrcity\n",
            "3  There would be less hype around AI and more ac...\n",
            "4                           python is the best tool!\n",
            "5                                R is good langauage\n",
            "6                                   I like this book\n",
            "7                        I want more books like this\n"
          ]
        }
      ]
    },
    {
      "cell_type": "code",
      "source": [
        "import nltk\n",
        "nltk.download('punkt')"
      ],
      "metadata": {
        "colab": {
          "base_uri": "https://localhost:8080/"
        },
        "id": "3MqWU531yl9p",
        "outputId": "26b8cfb8-43d9-453a-cd2e-6b1365a772c6"
      },
      "execution_count": null,
      "outputs": [
        {
          "output_type": "stream",
          "name": "stderr",
          "text": [
            "[nltk_data] Downloading package punkt to /root/nltk_data...\n",
            "[nltk_data]   Unzipping tokenizers/punkt.zip.\n"
          ]
        },
        {
          "output_type": "execute_result",
          "data": {
            "text/plain": [
              "True"
            ]
          },
          "metadata": {},
          "execution_count": 102
        }
      ]
    },
    {
      "cell_type": "code",
      "source": [
        "# Using textblob\n",
        "from textblob import TextBlob\n",
        "\n",
        "TextBlob(df['tweet'][3]).words\n"
      ],
      "metadata": {
        "colab": {
          "base_uri": "https://localhost:8080/"
        },
        "id": "4HH0e86WyKAY",
        "outputId": "8ba283d6-2cfc-4103-c807-beb6491c1627"
      },
      "execution_count": null,
      "outputs": [
        {
          "output_type": "execute_result",
          "data": {
            "text/plain": [
              "WordList(['There', 'would', 'be', 'less', 'hype', 'around', 'AI', 'and', 'more', 'action', 'going', 'forward'])"
            ]
          },
          "metadata": {},
          "execution_count": 103
        }
      ]
    },
    {
      "cell_type": "code",
      "source": [
        "#Create Data\n",
        "\n",
        "my_string = 'My favorite animal is cat'\n",
        "nltk.word_tokenize(my_string)"
      ],
      "metadata": {
        "colab": {
          "base_uri": "https://localhost:8080/"
        },
        "id": "LASc0p1nyKGE",
        "outputId": "7c514cd8-04bc-4c43-a4dd-9fc7db51bd92"
      },
      "execution_count": null,
      "outputs": [
        {
          "output_type": "execute_result",
          "data": {
            "text/plain": [
              "['My', 'favorite', 'animal', 'is', 'cat']"
            ]
          },
          "metadata": {},
          "execution_count": 104
        }
      ]
    },
    {
      "cell_type": "code",
      "source": [
        "#using the split function from python\n",
        "\n",
        "my_string.split()\n"
      ],
      "metadata": {
        "colab": {
          "base_uri": "https://localhost:8080/"
        },
        "id": "0H8EEJcxzEWc",
        "outputId": "e2ea0fb5-14f8-4a1a-f824-c701e97b1f29"
      },
      "execution_count": null,
      "outputs": [
        {
          "output_type": "execute_result",
          "data": {
            "text/plain": [
              "['My', 'favorite', 'animal', 'is', 'cat']"
            ]
          },
          "metadata": {},
          "execution_count": 107
        }
      ]
    },
    {
      "cell_type": "markdown",
      "source": [
        "Stemming\n",
        "\n",
        "Stemming is the process of extracting a root word. For example, fish, fishes, and fishing are stemmed into fish."
      ],
      "metadata": {
        "id": "onzFDnb0zduH"
      }
    },
    {
      "cell_type": "code",
      "source": [
        "# Create Data\n",
        "\n",
        "tweet_text = ['I like fishing','I eat fish','There are many fishes in pound']\n",
        "\n",
        "# Convert list to df\n",
        "\n",
        "list_df = pd.DataFrame({'tweet': tweet_text})\n",
        "list_df\n",
        "\n"
      ],
      "metadata": {
        "colab": {
          "base_uri": "https://localhost:8080/"
        },
        "id": "ROHJE_8MyKOr",
        "outputId": "47db9211-201c-4022-9041-c3f4778cbc05"
      },
      "execution_count": null,
      "outputs": [
        {
          "output_type": "execute_result",
          "data": {
            "text/plain": [
              "                            tweet\n",
              "0                  I like fishing\n",
              "1                      I eat fish\n",
              "2  There are many fishes in pound"
            ],
            "text/html": [
              "\n",
              "  <div id=\"df-dc400675-171e-45df-b2de-7a4e46187b47\">\n",
              "    <div class=\"colab-df-container\">\n",
              "      <div>\n",
              "<style scoped>\n",
              "    .dataframe tbody tr th:only-of-type {\n",
              "        vertical-align: middle;\n",
              "    }\n",
              "\n",
              "    .dataframe tbody tr th {\n",
              "        vertical-align: top;\n",
              "    }\n",
              "\n",
              "    .dataframe thead th {\n",
              "        text-align: right;\n",
              "    }\n",
              "</style>\n",
              "<table border=\"1\" class=\"dataframe\">\n",
              "  <thead>\n",
              "    <tr style=\"text-align: right;\">\n",
              "      <th></th>\n",
              "      <th>tweet</th>\n",
              "    </tr>\n",
              "  </thead>\n",
              "  <tbody>\n",
              "    <tr>\n",
              "      <th>0</th>\n",
              "      <td>I like fishing</td>\n",
              "    </tr>\n",
              "    <tr>\n",
              "      <th>1</th>\n",
              "      <td>I eat fish</td>\n",
              "    </tr>\n",
              "    <tr>\n",
              "      <th>2</th>\n",
              "      <td>There are many fishes in pound</td>\n",
              "    </tr>\n",
              "  </tbody>\n",
              "</table>\n",
              "</div>\n",
              "      <button class=\"colab-df-convert\" onclick=\"convertToInteractive('df-dc400675-171e-45df-b2de-7a4e46187b47')\"\n",
              "              title=\"Convert this dataframe to an interactive table.\"\n",
              "              style=\"display:none;\">\n",
              "        \n",
              "  <svg xmlns=\"http://www.w3.org/2000/svg\" height=\"24px\"viewBox=\"0 0 24 24\"\n",
              "       width=\"24px\">\n",
              "    <path d=\"M0 0h24v24H0V0z\" fill=\"none\"/>\n",
              "    <path d=\"M18.56 5.44l.94 2.06.94-2.06 2.06-.94-2.06-.94-.94-2.06-.94 2.06-2.06.94zm-11 1L8.5 8.5l.94-2.06 2.06-.94-2.06-.94L8.5 2.5l-.94 2.06-2.06.94zm10 10l.94 2.06.94-2.06 2.06-.94-2.06-.94-.94-2.06-.94 2.06-2.06.94z\"/><path d=\"M17.41 7.96l-1.37-1.37c-.4-.4-.92-.59-1.43-.59-.52 0-1.04.2-1.43.59L10.3 9.45l-7.72 7.72c-.78.78-.78 2.05 0 2.83L4 21.41c.39.39.9.59 1.41.59.51 0 1.02-.2 1.41-.59l7.78-7.78 2.81-2.81c.8-.78.8-2.07 0-2.86zM5.41 20L4 18.59l7.72-7.72 1.47 1.35L5.41 20z\"/>\n",
              "  </svg>\n",
              "      </button>\n",
              "      \n",
              "  <style>\n",
              "    .colab-df-container {\n",
              "      display:flex;\n",
              "      flex-wrap:wrap;\n",
              "      gap: 12px;\n",
              "    }\n",
              "\n",
              "    .colab-df-convert {\n",
              "      background-color: #E8F0FE;\n",
              "      border: none;\n",
              "      border-radius: 50%;\n",
              "      cursor: pointer;\n",
              "      display: none;\n",
              "      fill: #1967D2;\n",
              "      height: 32px;\n",
              "      padding: 0 0 0 0;\n",
              "      width: 32px;\n",
              "    }\n",
              "\n",
              "    .colab-df-convert:hover {\n",
              "      background-color: #E2EBFA;\n",
              "      box-shadow: 0px 1px 2px rgba(60, 64, 67, 0.3), 0px 1px 3px 1px rgba(60, 64, 67, 0.15);\n",
              "      fill: #174EA6;\n",
              "    }\n",
              "\n",
              "    [theme=dark] .colab-df-convert {\n",
              "      background-color: #3B4455;\n",
              "      fill: #D2E3FC;\n",
              "    }\n",
              "\n",
              "    [theme=dark] .colab-df-convert:hover {\n",
              "      background-color: #434B5C;\n",
              "      box-shadow: 0px 1px 3px 1px rgba(0, 0, 0, 0.15);\n",
              "      filter: drop-shadow(0px 1px 2px rgba(0, 0, 0, 0.3));\n",
              "      fill: #FFFFFF;\n",
              "    }\n",
              "  </style>\n",
              "\n",
              "      <script>\n",
              "        const buttonEl =\n",
              "          document.querySelector('#df-dc400675-171e-45df-b2de-7a4e46187b47 button.colab-df-convert');\n",
              "        buttonEl.style.display =\n",
              "          google.colab.kernel.accessAllowed ? 'block' : 'none';\n",
              "\n",
              "        async function convertToInteractive(key) {\n",
              "          const element = document.querySelector('#df-dc400675-171e-45df-b2de-7a4e46187b47');\n",
              "          const dataTable =\n",
              "            await google.colab.kernel.invokeFunction('convertToInteractive',\n",
              "                                                     [key], {});\n",
              "          if (!dataTable) return;\n",
              "\n",
              "          const docLinkHtml = 'Like what you see? Visit the ' +\n",
              "            '<a target=\"_blank\" href=https://colab.research.google.com/notebooks/data_table.ipynb>data table notebook</a>'\n",
              "            + ' to learn more about interactive tables.';\n",
              "          element.innerHTML = '';\n",
              "          dataTable['output_type'] = 'display_data';\n",
              "          await google.colab.output.renderOutput(dataTable, element);\n",
              "          const docLink = document.createElement('div');\n",
              "          docLink.innerHTML = docLinkHtml;\n",
              "          element.appendChild(docLink);\n",
              "        }\n",
              "      </script>\n",
              "    </div>\n",
              "  </div>\n",
              "  "
            ]
          },
          "metadata": {},
          "execution_count": 109
        }
      ]
    },
    {
      "cell_type": "code",
      "source": [
        "# Stem the text\n",
        "\n",
        "from nltk.stem import PorterStemmer\n",
        "\n",
        "st = PorterStemmer()\n",
        "\n",
        "my_stem = list_df['tweet'][:5].apply(lambda x: \" \".join([st.stem(word) for word in x.split()]))\n",
        "my_stem\n"
      ],
      "metadata": {
        "colab": {
          "base_uri": "https://localhost:8080/"
        },
        "id": "Urp8CV6pyKTs",
        "outputId": "38216c3d-7149-41eb-fc24-c81b6d2bcca7"
      },
      "execution_count": null,
      "outputs": [
        {
          "output_type": "execute_result",
          "data": {
            "text/plain": [
              "0                     i like fish\n",
              "1                      i eat fish\n",
              "2    there are mani fish in pound\n",
              "Name: tweet, dtype: object"
            ]
          },
          "metadata": {},
          "execution_count": 113
        }
      ]
    },
    {
      "cell_type": "markdown",
      "source": [
        "Lemmatizing\n",
        "\n",
        "lemmatization is the process of extracting a root word by considering the vocabulary. For example, good, better, or best is lemmatized into good."
      ],
      "metadata": {
        "id": "M9Q58R333ESp"
      }
    },
    {
      "cell_type": "code",
      "source": [
        "d_text=['I like fishing','I eat fish','There are many fishes in pound',\n",
        "'leaves and leaf']\n",
        "\n",
        "#convert list to dataframe\n",
        "import pandas as pd\n",
        "\n",
        "lem_df = pd.DataFrame({'tweet': d_text})\n",
        "lem_df"
      ],
      "metadata": {
        "colab": {
          "base_uri": "https://localhost:8080/"
        },
        "id": "b8LWx9L15FNW",
        "outputId": "a1748bad-b55d-4f06-8743-334fc610b062"
      },
      "execution_count": null,
      "outputs": [
        {
          "output_type": "execute_result",
          "data": {
            "text/plain": [
              "                            tweet\n",
              "0                  I like fishing\n",
              "1                      I eat fish\n",
              "2  There are many fishes in pound\n",
              "3                 leaves and leaf"
            ],
            "text/html": [
              "\n",
              "  <div id=\"df-8968492c-fa76-41eb-849a-4ec079f11eea\">\n",
              "    <div class=\"colab-df-container\">\n",
              "      <div>\n",
              "<style scoped>\n",
              "    .dataframe tbody tr th:only-of-type {\n",
              "        vertical-align: middle;\n",
              "    }\n",
              "\n",
              "    .dataframe tbody tr th {\n",
              "        vertical-align: top;\n",
              "    }\n",
              "\n",
              "    .dataframe thead th {\n",
              "        text-align: right;\n",
              "    }\n",
              "</style>\n",
              "<table border=\"1\" class=\"dataframe\">\n",
              "  <thead>\n",
              "    <tr style=\"text-align: right;\">\n",
              "      <th></th>\n",
              "      <th>tweet</th>\n",
              "    </tr>\n",
              "  </thead>\n",
              "  <tbody>\n",
              "    <tr>\n",
              "      <th>0</th>\n",
              "      <td>I like fishing</td>\n",
              "    </tr>\n",
              "    <tr>\n",
              "      <th>1</th>\n",
              "      <td>I eat fish</td>\n",
              "    </tr>\n",
              "    <tr>\n",
              "      <th>2</th>\n",
              "      <td>There are many fishes in pound</td>\n",
              "    </tr>\n",
              "    <tr>\n",
              "      <th>3</th>\n",
              "      <td>leaves and leaf</td>\n",
              "    </tr>\n",
              "  </tbody>\n",
              "</table>\n",
              "</div>\n",
              "      <button class=\"colab-df-convert\" onclick=\"convertToInteractive('df-8968492c-fa76-41eb-849a-4ec079f11eea')\"\n",
              "              title=\"Convert this dataframe to an interactive table.\"\n",
              "              style=\"display:none;\">\n",
              "        \n",
              "  <svg xmlns=\"http://www.w3.org/2000/svg\" height=\"24px\"viewBox=\"0 0 24 24\"\n",
              "       width=\"24px\">\n",
              "    <path d=\"M0 0h24v24H0V0z\" fill=\"none\"/>\n",
              "    <path d=\"M18.56 5.44l.94 2.06.94-2.06 2.06-.94-2.06-.94-.94-2.06-.94 2.06-2.06.94zm-11 1L8.5 8.5l.94-2.06 2.06-.94-2.06-.94L8.5 2.5l-.94 2.06-2.06.94zm10 10l.94 2.06.94-2.06 2.06-.94-2.06-.94-.94-2.06-.94 2.06-2.06.94z\"/><path d=\"M17.41 7.96l-1.37-1.37c-.4-.4-.92-.59-1.43-.59-.52 0-1.04.2-1.43.59L10.3 9.45l-7.72 7.72c-.78.78-.78 2.05 0 2.83L4 21.41c.39.39.9.59 1.41.59.51 0 1.02-.2 1.41-.59l7.78-7.78 2.81-2.81c.8-.78.8-2.07 0-2.86zM5.41 20L4 18.59l7.72-7.72 1.47 1.35L5.41 20z\"/>\n",
              "  </svg>\n",
              "      </button>\n",
              "      \n",
              "  <style>\n",
              "    .colab-df-container {\n",
              "      display:flex;\n",
              "      flex-wrap:wrap;\n",
              "      gap: 12px;\n",
              "    }\n",
              "\n",
              "    .colab-df-convert {\n",
              "      background-color: #E8F0FE;\n",
              "      border: none;\n",
              "      border-radius: 50%;\n",
              "      cursor: pointer;\n",
              "      display: none;\n",
              "      fill: #1967D2;\n",
              "      height: 32px;\n",
              "      padding: 0 0 0 0;\n",
              "      width: 32px;\n",
              "    }\n",
              "\n",
              "    .colab-df-convert:hover {\n",
              "      background-color: #E2EBFA;\n",
              "      box-shadow: 0px 1px 2px rgba(60, 64, 67, 0.3), 0px 1px 3px 1px rgba(60, 64, 67, 0.15);\n",
              "      fill: #174EA6;\n",
              "    }\n",
              "\n",
              "    [theme=dark] .colab-df-convert {\n",
              "      background-color: #3B4455;\n",
              "      fill: #D2E3FC;\n",
              "    }\n",
              "\n",
              "    [theme=dark] .colab-df-convert:hover {\n",
              "      background-color: #434B5C;\n",
              "      box-shadow: 0px 1px 3px 1px rgba(0, 0, 0, 0.15);\n",
              "      filter: drop-shadow(0px 1px 2px rgba(0, 0, 0, 0.3));\n",
              "      fill: #FFFFFF;\n",
              "    }\n",
              "  </style>\n",
              "\n",
              "      <script>\n",
              "        const buttonEl =\n",
              "          document.querySelector('#df-8968492c-fa76-41eb-849a-4ec079f11eea button.colab-df-convert');\n",
              "        buttonEl.style.display =\n",
              "          google.colab.kernel.accessAllowed ? 'block' : 'none';\n",
              "\n",
              "        async function convertToInteractive(key) {\n",
              "          const element = document.querySelector('#df-8968492c-fa76-41eb-849a-4ec079f11eea');\n",
              "          const dataTable =\n",
              "            await google.colab.kernel.invokeFunction('convertToInteractive',\n",
              "                                                     [key], {});\n",
              "          if (!dataTable) return;\n",
              "\n",
              "          const docLinkHtml = 'Like what you see? Visit the ' +\n",
              "            '<a target=\"_blank\" href=https://colab.research.google.com/notebooks/data_table.ipynb>data table notebook</a>'\n",
              "            + ' to learn more about interactive tables.';\n",
              "          element.innerHTML = '';\n",
              "          dataTable['output_type'] = 'display_data';\n",
              "          await google.colab.output.renderOutput(dataTable, element);\n",
              "          const docLink = document.createElement('div');\n",
              "          docLink.innerHTML = docLinkHtml;\n",
              "          element.appendChild(docLink);\n",
              "        }\n",
              "      </script>\n",
              "    </div>\n",
              "  </div>\n",
              "  "
            ]
          },
          "metadata": {},
          "execution_count": 114
        }
      ]
    },
    {
      "cell_type": "code",
      "source": [
        "from textblob import Word\n",
        "import nltk\n",
        "nltk.download('wordnet')\n",
        "nltk.download('omw-1.4')\n",
        "\n",
        "lem_df['tweet'] = lem_df['tweet'].apply(lambda x: \" \".join([Word(word).lemmatize()for word in x.split()]))\n",
        "\n",
        "lem_df"
      ],
      "metadata": {
        "colab": {
          "base_uri": "https://localhost:8080/"
        },
        "id": "EXRsjMI75FSc",
        "outputId": "c4368532-44e0-4076-e2c0-b107822f6c8f"
      },
      "execution_count": null,
      "outputs": [
        {
          "output_type": "stream",
          "name": "stderr",
          "text": [
            "[nltk_data] Downloading package wordnet to /root/nltk_data...\n",
            "[nltk_data]   Package wordnet is already up-to-date!\n",
            "[nltk_data] Downloading package omw-1.4 to /root/nltk_data...\n",
            "[nltk_data]   Package omw-1.4 is already up-to-date!\n"
          ]
        },
        {
          "output_type": "execute_result",
          "data": {
            "text/plain": [
              "                          tweet\n",
              "0                I like fishing\n",
              "1                    I eat fish\n",
              "2  There are many fish in pound\n",
              "3                 leaf and leaf"
            ],
            "text/html": [
              "\n",
              "  <div id=\"df-cd2b561c-cb85-49e3-a51a-db05ae224565\">\n",
              "    <div class=\"colab-df-container\">\n",
              "      <div>\n",
              "<style scoped>\n",
              "    .dataframe tbody tr th:only-of-type {\n",
              "        vertical-align: middle;\n",
              "    }\n",
              "\n",
              "    .dataframe tbody tr th {\n",
              "        vertical-align: top;\n",
              "    }\n",
              "\n",
              "    .dataframe thead th {\n",
              "        text-align: right;\n",
              "    }\n",
              "</style>\n",
              "<table border=\"1\" class=\"dataframe\">\n",
              "  <thead>\n",
              "    <tr style=\"text-align: right;\">\n",
              "      <th></th>\n",
              "      <th>tweet</th>\n",
              "    </tr>\n",
              "  </thead>\n",
              "  <tbody>\n",
              "    <tr>\n",
              "      <th>0</th>\n",
              "      <td>I like fishing</td>\n",
              "    </tr>\n",
              "    <tr>\n",
              "      <th>1</th>\n",
              "      <td>I eat fish</td>\n",
              "    </tr>\n",
              "    <tr>\n",
              "      <th>2</th>\n",
              "      <td>There are many fish in pound</td>\n",
              "    </tr>\n",
              "    <tr>\n",
              "      <th>3</th>\n",
              "      <td>leaf and leaf</td>\n",
              "    </tr>\n",
              "  </tbody>\n",
              "</table>\n",
              "</div>\n",
              "      <button class=\"colab-df-convert\" onclick=\"convertToInteractive('df-cd2b561c-cb85-49e3-a51a-db05ae224565')\"\n",
              "              title=\"Convert this dataframe to an interactive table.\"\n",
              "              style=\"display:none;\">\n",
              "        \n",
              "  <svg xmlns=\"http://www.w3.org/2000/svg\" height=\"24px\"viewBox=\"0 0 24 24\"\n",
              "       width=\"24px\">\n",
              "    <path d=\"M0 0h24v24H0V0z\" fill=\"none\"/>\n",
              "    <path d=\"M18.56 5.44l.94 2.06.94-2.06 2.06-.94-2.06-.94-.94-2.06-.94 2.06-2.06.94zm-11 1L8.5 8.5l.94-2.06 2.06-.94-2.06-.94L8.5 2.5l-.94 2.06-2.06.94zm10 10l.94 2.06.94-2.06 2.06-.94-2.06-.94-.94-2.06-.94 2.06-2.06.94z\"/><path d=\"M17.41 7.96l-1.37-1.37c-.4-.4-.92-.59-1.43-.59-.52 0-1.04.2-1.43.59L10.3 9.45l-7.72 7.72c-.78.78-.78 2.05 0 2.83L4 21.41c.39.39.9.59 1.41.59.51 0 1.02-.2 1.41-.59l7.78-7.78 2.81-2.81c.8-.78.8-2.07 0-2.86zM5.41 20L4 18.59l7.72-7.72 1.47 1.35L5.41 20z\"/>\n",
              "  </svg>\n",
              "      </button>\n",
              "      \n",
              "  <style>\n",
              "    .colab-df-container {\n",
              "      display:flex;\n",
              "      flex-wrap:wrap;\n",
              "      gap: 12px;\n",
              "    }\n",
              "\n",
              "    .colab-df-convert {\n",
              "      background-color: #E8F0FE;\n",
              "      border: none;\n",
              "      border-radius: 50%;\n",
              "      cursor: pointer;\n",
              "      display: none;\n",
              "      fill: #1967D2;\n",
              "      height: 32px;\n",
              "      padding: 0 0 0 0;\n",
              "      width: 32px;\n",
              "    }\n",
              "\n",
              "    .colab-df-convert:hover {\n",
              "      background-color: #E2EBFA;\n",
              "      box-shadow: 0px 1px 2px rgba(60, 64, 67, 0.3), 0px 1px 3px 1px rgba(60, 64, 67, 0.15);\n",
              "      fill: #174EA6;\n",
              "    }\n",
              "\n",
              "    [theme=dark] .colab-df-convert {\n",
              "      background-color: #3B4455;\n",
              "      fill: #D2E3FC;\n",
              "    }\n",
              "\n",
              "    [theme=dark] .colab-df-convert:hover {\n",
              "      background-color: #434B5C;\n",
              "      box-shadow: 0px 1px 3px 1px rgba(0, 0, 0, 0.15);\n",
              "      filter: drop-shadow(0px 1px 2px rgba(0, 0, 0, 0.3));\n",
              "      fill: #FFFFFF;\n",
              "    }\n",
              "  </style>\n",
              "\n",
              "      <script>\n",
              "        const buttonEl =\n",
              "          document.querySelector('#df-cd2b561c-cb85-49e3-a51a-db05ae224565 button.colab-df-convert');\n",
              "        buttonEl.style.display =\n",
              "          google.colab.kernel.accessAllowed ? 'block' : 'none';\n",
              "\n",
              "        async function convertToInteractive(key) {\n",
              "          const element = document.querySelector('#df-cd2b561c-cb85-49e3-a51a-db05ae224565');\n",
              "          const dataTable =\n",
              "            await google.colab.kernel.invokeFunction('convertToInteractive',\n",
              "                                                     [key], {});\n",
              "          if (!dataTable) return;\n",
              "\n",
              "          const docLinkHtml = 'Like what you see? Visit the ' +\n",
              "            '<a target=\"_blank\" href=https://colab.research.google.com/notebooks/data_table.ipynb>data table notebook</a>'\n",
              "            + ' to learn more about interactive tables.';\n",
              "          element.innerHTML = '';\n",
              "          dataTable['output_type'] = 'display_data';\n",
              "          await google.colab.output.renderOutput(dataTable, element);\n",
              "          const docLink = document.createElement('div');\n",
              "          docLink.innerHTML = docLinkHtml;\n",
              "          element.appendChild(docLink);\n",
              "        }\n",
              "      </script>\n",
              "    </div>\n",
              "  </div>\n",
              "  "
            ]
          },
          "metadata": {},
          "execution_count": 119
        }
      ]
    },
    {
      "cell_type": "markdown",
      "source": [
        "Exploring Text Data"
      ],
      "metadata": {
        "id": "EYtp7Eml6TtJ"
      }
    },
    {
      "cell_type": "code",
      "source": [
        "#nltk.download()\n",
        "#Importing data\n",
        "import nltk\n",
        "from nltk.corpus import webtext\n",
        "nltk.download('webtext')\n",
        "from nltk.probability import FreqDist\n",
        "from nltk.corpus import stopwords\n",
        "import string"
      ],
      "metadata": {
        "colab": {
          "base_uri": "https://localhost:8080/"
        },
        "id": "OpWwYpEm5FT8",
        "outputId": "250b9e21-15ce-4b4e-91ac-835372e62d1b"
      },
      "execution_count": null,
      "outputs": [
        {
          "output_type": "stream",
          "name": "stderr",
          "text": [
            "[nltk_data] Downloading package webtext to /root/nltk_data...\n",
            "[nltk_data]   Package webtext is already up-to-date!\n"
          ]
        }
      ]
    },
    {
      "cell_type": "code",
      "source": [
        "wt_sentences = webtext.sents('firefox.txt')\n",
        "wt_words = webtext.words('firefox.txt')"
      ],
      "metadata": {
        "id": "xegGF_hI7W2K"
      },
      "execution_count": null,
      "outputs": []
    },
    {
      "cell_type": "code",
      "source": [
        "wt_sentences"
      ],
      "metadata": {
        "colab": {
          "base_uri": "https://localhost:8080/"
        },
        "id": "UMUvEVx35FVe",
        "outputId": "e4760d4b-70d7-49e3-d385-05783e7c3edc"
      },
      "execution_count": null,
      "outputs": [
        {
          "output_type": "execute_result",
          "data": {
            "text/plain": [
              "[['Cookie', 'Manager', ':', '\"', 'Don', \"'\", 't', 'allow', 'sites', 'that', 'set', 'removed', 'cookies', 'to', 'set', 'future', 'cookies', '\"', 'should', 'stay', 'checked', 'When', 'in', 'full', 'screen', 'mode', 'Pressing', 'Ctrl', '-', 'N', 'should', 'open', 'a', 'new', 'browser', 'when', 'only', 'download', 'dialog', 'is', 'left', 'open', 'add', 'icons', 'to', 'context', 'menu', 'So', 'called', '\"', 'tab', 'bar', '\"', 'should', 'be', 'made', 'a', 'proper', 'toolbar', 'or', 'given', 'the', 'ability', 'collapse', '/', 'expand', '.'], ['[', 'XUL', ']', 'Implement', 'Cocoa', '-', 'style', 'toolbar', 'customization', '.'], ...]"
            ]
          },
          "metadata": {},
          "execution_count": 126
        }
      ]
    },
    {
      "cell_type": "code",
      "source": [
        "wt_words"
      ],
      "metadata": {
        "colab": {
          "base_uri": "https://localhost:8080/"
        },
        "id": "W0LvQJ2X5Fca",
        "outputId": "f301af78-fb63-4fc7-dea7-44d1f3f8897c"
      },
      "execution_count": null,
      "outputs": [
        {
          "output_type": "execute_result",
          "data": {
            "text/plain": [
              "['Cookie', 'Manager', ':', '\"', 'Don', \"'\", 't', ...]"
            ]
          },
          "metadata": {},
          "execution_count": 127
        }
      ]
    },
    {
      "cell_type": "code",
      "source": [
        "# Count the number of words\n",
        "\n",
        "len(wt_sentences)"
      ],
      "metadata": {
        "colab": {
          "base_uri": "https://localhost:8080/"
        },
        "id": "CdE_STST7mmd",
        "outputId": "30615e2e-1e45-4b58-a21f-43c9f530a683"
      },
      "execution_count": null,
      "outputs": [
        {
          "output_type": "execute_result",
          "data": {
            "text/plain": [
              "1138"
            ]
          },
          "metadata": {},
          "execution_count": 128
        }
      ]
    },
    {
      "cell_type": "code",
      "source": [
        "len(wt_words)"
      ],
      "metadata": {
        "colab": {
          "base_uri": "https://localhost:8080/"
        },
        "id": "zaNOnnc77mq5",
        "outputId": "350d4850-fd39-461e-834b-597c27c8d6de"
      },
      "execution_count": null,
      "outputs": [
        {
          "output_type": "execute_result",
          "data": {
            "text/plain": [
              "102457"
            ]
          },
          "metadata": {},
          "execution_count": 129
        }
      ]
    },
    {
      "cell_type": "code",
      "source": [
        "# Compute the frequency of all words in the reviews\n",
        "\n",
        "frequency_dist = nltk.FreqDist(wt_words)\n",
        "\n",
        "freqdf = pd.DataFrame(list(frequency_dist.items()),\n",
        "                      columns=['Word', 'Frequency'])\n",
        "freqdf"
      ],
      "metadata": {
        "colab": {
          "base_uri": "https://localhost:8080/"
        },
        "id": "kfCZnyEx7mr_",
        "outputId": "4cb269f4-9333-444a-a5a5-b3b6e60049d6"
      },
      "execution_count": null,
      "outputs": [
        {
          "output_type": "execute_result",
          "data": {
            "text/plain": [
              "             Word  Frequency\n",
              "0          Cookie         22\n",
              "1         Manager        179\n",
              "2               :        466\n",
              "3               \"       1971\n",
              "4             Don         21\n",
              "...           ...        ...\n",
              "8291          DoS          1\n",
              "8292  distracting          1\n",
              "8293        whell          1\n",
              "8294      heights          1\n",
              "8295    workspace          1\n",
              "\n",
              "[8296 rows x 2 columns]"
            ],
            "text/html": [
              "\n",
              "  <div id=\"df-046c3aa4-da4f-42ac-9e9f-3f2d7f7955e7\">\n",
              "    <div class=\"colab-df-container\">\n",
              "      <div>\n",
              "<style scoped>\n",
              "    .dataframe tbody tr th:only-of-type {\n",
              "        vertical-align: middle;\n",
              "    }\n",
              "\n",
              "    .dataframe tbody tr th {\n",
              "        vertical-align: top;\n",
              "    }\n",
              "\n",
              "    .dataframe thead th {\n",
              "        text-align: right;\n",
              "    }\n",
              "</style>\n",
              "<table border=\"1\" class=\"dataframe\">\n",
              "  <thead>\n",
              "    <tr style=\"text-align: right;\">\n",
              "      <th></th>\n",
              "      <th>Word</th>\n",
              "      <th>Frequency</th>\n",
              "    </tr>\n",
              "  </thead>\n",
              "  <tbody>\n",
              "    <tr>\n",
              "      <th>0</th>\n",
              "      <td>Cookie</td>\n",
              "      <td>22</td>\n",
              "    </tr>\n",
              "    <tr>\n",
              "      <th>1</th>\n",
              "      <td>Manager</td>\n",
              "      <td>179</td>\n",
              "    </tr>\n",
              "    <tr>\n",
              "      <th>2</th>\n",
              "      <td>:</td>\n",
              "      <td>466</td>\n",
              "    </tr>\n",
              "    <tr>\n",
              "      <th>3</th>\n",
              "      <td>\"</td>\n",
              "      <td>1971</td>\n",
              "    </tr>\n",
              "    <tr>\n",
              "      <th>4</th>\n",
              "      <td>Don</td>\n",
              "      <td>21</td>\n",
              "    </tr>\n",
              "    <tr>\n",
              "      <th>...</th>\n",
              "      <td>...</td>\n",
              "      <td>...</td>\n",
              "    </tr>\n",
              "    <tr>\n",
              "      <th>8291</th>\n",
              "      <td>DoS</td>\n",
              "      <td>1</td>\n",
              "    </tr>\n",
              "    <tr>\n",
              "      <th>8292</th>\n",
              "      <td>distracting</td>\n",
              "      <td>1</td>\n",
              "    </tr>\n",
              "    <tr>\n",
              "      <th>8293</th>\n",
              "      <td>whell</td>\n",
              "      <td>1</td>\n",
              "    </tr>\n",
              "    <tr>\n",
              "      <th>8294</th>\n",
              "      <td>heights</td>\n",
              "      <td>1</td>\n",
              "    </tr>\n",
              "    <tr>\n",
              "      <th>8295</th>\n",
              "      <td>workspace</td>\n",
              "      <td>1</td>\n",
              "    </tr>\n",
              "  </tbody>\n",
              "</table>\n",
              "<p>8296 rows × 2 columns</p>\n",
              "</div>\n",
              "      <button class=\"colab-df-convert\" onclick=\"convertToInteractive('df-046c3aa4-da4f-42ac-9e9f-3f2d7f7955e7')\"\n",
              "              title=\"Convert this dataframe to an interactive table.\"\n",
              "              style=\"display:none;\">\n",
              "        \n",
              "  <svg xmlns=\"http://www.w3.org/2000/svg\" height=\"24px\"viewBox=\"0 0 24 24\"\n",
              "       width=\"24px\">\n",
              "    <path d=\"M0 0h24v24H0V0z\" fill=\"none\"/>\n",
              "    <path d=\"M18.56 5.44l.94 2.06.94-2.06 2.06-.94-2.06-.94-.94-2.06-.94 2.06-2.06.94zm-11 1L8.5 8.5l.94-2.06 2.06-.94-2.06-.94L8.5 2.5l-.94 2.06-2.06.94zm10 10l.94 2.06.94-2.06 2.06-.94-2.06-.94-.94-2.06-.94 2.06-2.06.94z\"/><path d=\"M17.41 7.96l-1.37-1.37c-.4-.4-.92-.59-1.43-.59-.52 0-1.04.2-1.43.59L10.3 9.45l-7.72 7.72c-.78.78-.78 2.05 0 2.83L4 21.41c.39.39.9.59 1.41.59.51 0 1.02-.2 1.41-.59l7.78-7.78 2.81-2.81c.8-.78.8-2.07 0-2.86zM5.41 20L4 18.59l7.72-7.72 1.47 1.35L5.41 20z\"/>\n",
              "  </svg>\n",
              "      </button>\n",
              "      \n",
              "  <style>\n",
              "    .colab-df-container {\n",
              "      display:flex;\n",
              "      flex-wrap:wrap;\n",
              "      gap: 12px;\n",
              "    }\n",
              "\n",
              "    .colab-df-convert {\n",
              "      background-color: #E8F0FE;\n",
              "      border: none;\n",
              "      border-radius: 50%;\n",
              "      cursor: pointer;\n",
              "      display: none;\n",
              "      fill: #1967D2;\n",
              "      height: 32px;\n",
              "      padding: 0 0 0 0;\n",
              "      width: 32px;\n",
              "    }\n",
              "\n",
              "    .colab-df-convert:hover {\n",
              "      background-color: #E2EBFA;\n",
              "      box-shadow: 0px 1px 2px rgba(60, 64, 67, 0.3), 0px 1px 3px 1px rgba(60, 64, 67, 0.15);\n",
              "      fill: #174EA6;\n",
              "    }\n",
              "\n",
              "    [theme=dark] .colab-df-convert {\n",
              "      background-color: #3B4455;\n",
              "      fill: #D2E3FC;\n",
              "    }\n",
              "\n",
              "    [theme=dark] .colab-df-convert:hover {\n",
              "      background-color: #434B5C;\n",
              "      box-shadow: 0px 1px 3px 1px rgba(0, 0, 0, 0.15);\n",
              "      filter: drop-shadow(0px 1px 2px rgba(0, 0, 0, 0.3));\n",
              "      fill: #FFFFFF;\n",
              "    }\n",
              "  </style>\n",
              "\n",
              "      <script>\n",
              "        const buttonEl =\n",
              "          document.querySelector('#df-046c3aa4-da4f-42ac-9e9f-3f2d7f7955e7 button.colab-df-convert');\n",
              "        buttonEl.style.display =\n",
              "          google.colab.kernel.accessAllowed ? 'block' : 'none';\n",
              "\n",
              "        async function convertToInteractive(key) {\n",
              "          const element = document.querySelector('#df-046c3aa4-da4f-42ac-9e9f-3f2d7f7955e7');\n",
              "          const dataTable =\n",
              "            await google.colab.kernel.invokeFunction('convertToInteractive',\n",
              "                                                     [key], {});\n",
              "          if (!dataTable) return;\n",
              "\n",
              "          const docLinkHtml = 'Like what you see? Visit the ' +\n",
              "            '<a target=\"_blank\" href=https://colab.research.google.com/notebooks/data_table.ipynb>data table notebook</a>'\n",
              "            + ' to learn more about interactive tables.';\n",
              "          element.innerHTML = '';\n",
              "          dataTable['output_type'] = 'display_data';\n",
              "          await google.colab.output.renderOutput(dataTable, element);\n",
              "          const docLink = document.createElement('div');\n",
              "          docLink.innerHTML = docLinkHtml;\n",
              "          element.appendChild(docLink);\n",
              "        }\n",
              "      </script>\n",
              "    </div>\n",
              "  </div>\n",
              "  "
            ]
          },
          "metadata": {},
          "execution_count": 149
        }
      ]
    },
    {
      "cell_type": "code",
      "source": [
        "sorted_frequency_dist = sorted(frequency_dist,\n",
        "                               key = frequency_dist.__getitem__,\n",
        "                               reverse = True)\n",
        "\n",
        "\n",
        "#sorted_frequency_dist"
      ],
      "metadata": {
        "id": "VQPS0H0w8uUc"
      },
      "execution_count": null,
      "outputs": []
    },
    {
      "cell_type": "markdown",
      "source": [
        "Consider words with length greater than 3 and plot"
      ],
      "metadata": {
        "id": "4NjE9mDK9uv1"
      }
    },
    {
      "cell_type": "code",
      "source": [
        "large_words = dict([(k,v) for k,v in frequency_dist.items() if len(k)>3])\n",
        "\n",
        "frequency_dist = nltk.FreqDist(large_words)\n",
        "\n",
        "frequency_dist.plot(50,cumulative = False)"
      ],
      "metadata": {
        "colab": {
          "base_uri": "https://localhost:8080/"
        },
        "id": "F-35t5qe9iGu",
        "outputId": "efda0704-f52b-4c69-c115-88dfa46532e2"
      },
      "execution_count": null,
      "outputs": [
        {
          "output_type": "display_data",
          "data": {
            "text/plain": [
              "<Figure size 432x288 with 1 Axes>"
            ],
            "image/png": "[encoded data removed]"
          },
          "metadata": {
            "needs_background": "light"
          }
        },
        {
          "output_type": "execute_result",
          "data": {
            "text/plain": [
              "<AxesSubplot:xlabel='Samples', ylabel='Counts'>"
            ]
          },
          "metadata": {},
          "execution_count": 152
        }
      ]
    },
    {
      "cell_type": "markdown",
      "source": [
        "Build a word cloud"
      ],
      "metadata": {
        "id": "EDbASsNNAkCn"
      }
    },
    {
      "cell_type": "code",
      "source": [
        "#install library\n",
        "!pip install wordcloud"
      ],
      "metadata": {
        "colab": {
          "base_uri": "https://localhost:8080/"
        },
        "id": "GqsQQGuZ9iK4",
        "outputId": "0638497b-41bf-44fe-e37b-7fa24eb7abf4"
      },
      "execution_count": null,
      "outputs": [
        {
          "output_type": "stream",
          "name": "stdout",
          "text": [
            "Looking in indexes: https://pypi.org/simple, https://us-python.pkg.dev/colab-wheels/public/simple/\n",
            "Requirement already satisfied: wordcloud in /usr/local/lib/python3.9/dist-packages (1.8.2.2)\n",
            "Requirement already satisfied: pillow in /usr/local/lib/python3.9/dist-packages (from wordcloud) (8.4.0)\n",
            "Requirement already satisfied: matplotlib in /usr/local/lib/python3.9/dist-packages (from wordcloud) (3.5.3)\n",
            "Requirement already satisfied: numpy>=1.6.1 in /usr/local/lib/python3.9/dist-packages (from wordcloud) (1.22.4)\n",
            "Requirement already satisfied: fonttools>=4.22.0 in /usr/local/lib/python3.9/dist-packages (from matplotlib->wordcloud) (4.39.0)\n",
            "Requirement already satisfied: python-dateutil>=2.7 in /usr/local/lib/python3.9/dist-packages (from matplotlib->wordcloud) (2.8.2)\n",
            "Requirement already satisfied: kiwisolver>=1.0.1 in /usr/local/lib/python3.9/dist-packages (from matplotlib->wordcloud) (1.4.4)\n",
            "Requirement already satisfied: pyparsing>=2.2.1 in /usr/local/lib/python3.9/dist-packages (from matplotlib->wordcloud) (3.0.9)\n",
            "Requirement already satisfied: packaging>=20.0 in /usr/local/lib/python3.9/dist-packages (from matplotlib->wordcloud) (23.0)\n",
            "Requirement already satisfied: cycler>=0.10 in /usr/local/lib/python3.9/dist-packages (from matplotlib->wordcloud) (0.11.0)\n",
            "Requirement already satisfied: six>=1.5 in /usr/local/lib/python3.9/dist-packages (from python-dateutil>=2.7->matplotlib->wordcloud) (1.15.0)\n"
          ]
        }
      ]
    },
    {
      "cell_type": "code",
      "source": [
        "#build wordcloud\n",
        "from wordcloud import WordCloud\n",
        "\n",
        "wcloud = WordCloud().generate_from_frequencies(frequency_dist)"
      ],
      "metadata": {
        "id": "oIilHm7e9iMe"
      },
      "execution_count": null,
      "outputs": []
    },
    {
      "cell_type": "code",
      "source": [
        "#plotting the wordcloud\n",
        "import matplotlib.pyplot as plt\n",
        "\n",
        "plt.imshow(wcloud, interpolation=\"bilinear\")\n",
        "\n",
        "plt.axis(\"off\")\n",
        "\n",
        "(-0.5, 399.5, 199.5, -0.5)\n",
        "\n",
        "plt.show()\n",
        "#output"
      ],
      "metadata": {
        "colab": {
          "base_uri": "https://localhost:8080/"
        },
        "id": "iVb9MnPf9iTU",
        "outputId": "1d1079cf-6272-4d8c-aaf4-38abca223d26"
      },
      "execution_count": null,
      "outputs": [
        {
          "output_type": "display_data",
          "data": {
            "text/plain": [
              "<Figure size 432x288 with 1 Axes>"
            ],
            "image/png": "[encoded data removed]"
          },
          "metadata": {
            "needs_background": "light"
          }
        }
      ]
    },
    {
      "cell_type": "markdown",
      "source": [
        "# Building a Text Preprocessing Pipeline\n",
        "\n",
        "Building an end-to-end text preprocessing pipeline. Whenever we want to do preprocessing for any NLP application, we can directly plug data into this pipeline function and get the required clean text data as the output.\n",
        "\n",
        "We weill put all the possible processing techniques into a wrapper function and passing the data through it."
      ],
      "metadata": {
        "id": "zmXBK5lZCOPR"
      }
    },
    {
      "cell_type": "code",
      "source": [
        "tweet_sample= \"\"\"How to take control of your\n",
        "#debt https://personal.vanguard.com/us/insights/saving-investing/debt-management.\n",
        "#Best advice for #family#financial #success (@PrepareToWin)\"\"\"\n",
        "\n",
        "\n"
      ],
      "metadata": {
        "id": "v25KKRc59iUR"
      },
      "execution_count": null,
      "outputs": []
    },
    {
      "cell_type": "code",
      "source": [
        "\n",
        "def processRow(row):\n",
        "\n",
        "    import re\n",
        "    import nltk\n",
        "    from textblob import TextBlob\n",
        "    from nltk.corpus import stopwords\n",
        "    from nltk.stem import PorterStemmer\n",
        "    from textblob import Word\n",
        "    from nltk.util import ngrams\n",
        "    import re\n",
        "    from wordcloud import WordCloud, STOPWORDS\n",
        "    from nltk.tokenize import word_tokenize\n",
        "\n",
        "    tweet = row\n",
        "\n",
        "    #Lower case\n",
        "    tweet.lower()\n",
        "\n",
        "    #Removes unicode strings like \"\\u002c\" and \"x96\"\n",
        "    tweet = re.sub(r'(\\\\u[0-9A-Fa-f]+)',r'', tweet)\n",
        "    tweet = re.sub(r'[^\\x00-\\x7f]',r'',tweet)\n",
        "\n",
        "    #convert any url to URL\n",
        "    tweet = re.sub('((www\\.[^\\s]+)|(https?://[^\\s]+))','URL',tweet)\n",
        "\n",
        "    #Convert any @Username to \"AT_USER\"\n",
        "    tweet = re.sub('@[^\\s]+','AT_USER',tweet)\n",
        "\n",
        "    #Remove additional white spaces\n",
        "    tweet = re.sub('[\\s]+', ' ', tweet)\n",
        "    tweet = re.sub('[\\n]+', ' ', tweet)\n",
        "\n",
        "    #Remove not alphanumeric symbols white spaces\n",
        "    tweet = re.sub(r'[^\\w]', ' ', tweet)\n",
        "\n",
        "    #Removes hastag in front of a word \"\"\"\n",
        "    tweet = re.sub(r'#([^\\s]+)', r'\\1', tweet)\n",
        "\n",
        "    #Replace #word with word\n",
        "    tweet = re.sub(r'#([^\\s]+)', r'\\1', tweet)\n",
        "\n",
        "    #Remove :( or :)\n",
        "    tweet = tweet.replace(':)','')\n",
        "    tweet = tweet.replace(':(','')\n",
        "\n",
        "    #remove numbers\n",
        "    tweet = ''.join([i for i in tweet if not i.isdigit()])\n",
        "\n",
        "    #remove multiple exclamation\n",
        "    tweet = re.sub(r\"(\\!)\\1+\", ' ', tweet)\n",
        "\n",
        "    #remove multiple question marks\n",
        "    tweet = re.sub(r\"(\\?)\\1+\", ' ', tweet)\n",
        "\n",
        "    #remove multistop\n",
        "    tweet = re.sub(r\"(\\.)\\1+\", ' ', tweet)\n",
        "\n",
        "    #lemma\n",
        "    from textblob import Word\n",
        "    tweet =\" \".join([Word(word).lemmatize() for word in tweet.split()])\n",
        "\n",
        "    #stemmer\n",
        "    #st = PorterStemmer()\n",
        "    #tweet=\" \".join([st.stem(word) for word in tweet.split()])\n",
        "\n",
        "    #Removes emoticons from text\n",
        "    tweet = re.sub(':\\)|;\\)|:-\\)|\\(-:|:-D|=D|:P|xD|X-p|\\^\\^|:-*|\\^\\.\\^|\\^\\-\\^|\\^\\_\\^|\\,-\\)|\\)-:|:\\'\\(|:\\(|:-\\(|:\\S|T\\.T|\\.\\_\\.|:<|:-\\S|:-<|\\*\\-\\*|:O|=O|=\\-O|O\\.o|XO|O\\_O|:-\\@|=/|:/|X\\-\\(|>\\.<|>=\\(|D:', '', tweet)\n",
        "\n",
        "    #trim\n",
        "    tweet = tweet.strip('\\'\"')\n",
        "\n",
        "    row = tweet\n",
        "\n",
        "    return row\n",
        "\n",
        "#call the function with your data\n",
        "processRow(tweet_sample)"
      ],
      "metadata": {
        "colab": {
          "base_uri": "https://localhost:8080/"
        },
        "id": "Y3_r1AQS9iVa",
        "outputId": "783d6127-72a3-4488-b60d-ba4be0178872"
      },
      "execution_count": null,
      "outputs": [
        {
          "output_type": "execute_result",
          "data": {
            "text/plain": [
              "'How to take control of your debt URL Best advice for family financial success AT_USER'"
            ],
            "application/vnd.google.colaboratory.intrinsic+json": {
              "type": "string"
            }
          },
          "metadata": {},
          "execution_count": 163
        }
      ]
    },
    {
      "cell_type": "markdown",
      "source": [
        "#Twitter Web Scraping\n",
        "\n",
        "Extracting the content/data from websites twitter"
      ],
      "metadata": {
        "id": "RpcihPIK6HK6"
      }
    },
    {
      "cell_type": "code",
      "execution_count": null,
      "metadata": {
        "colab": {
          "base_uri": "https://localhost:8080/"
        },
        "id": "BO7Vsejcr1Wf",
        "outputId": "f8541048-9084-476b-9eac-0353ebdc85ef"
      },
      "outputs": [
        {
          "output_type": "stream",
          "name": "stdout",
          "text": [
            "Looking in indexes: https://pypi.org/simple, https://us-python.pkg.dev/colab-wheels/public/simple/\n",
            "Requirement already satisfied: tweepy in /usr/local/lib/python3.9/dist-packages (3.10.0)\n",
            "Requirement already satisfied: six>=1.10.0 in /usr/local/lib/python3.9/dist-packages (from tweepy) (1.15.0)\n",
            "Requirement already satisfied: requests[socks]>=2.11.1 in /usr/local/lib/python3.9/dist-packages (from tweepy) (2.25.1)\n",
            "Requirement already satisfied: requests-oauthlib>=0.7.0 in /usr/local/lib/python3.9/dist-packages (from tweepy) (1.3.1)\n",
            "Requirement already satisfied: oauthlib>=3.0.0 in /usr/local/lib/python3.9/dist-packages (from requests-oauthlib>=0.7.0->tweepy) (3.2.2)\n",
            "Requirement already satisfied: certifi>=2017.4.17 in /usr/local/lib/python3.9/dist-packages (from requests[socks]>=2.11.1->tweepy) (2022.12.7)\n",
            "Requirement already satisfied: urllib3<1.27,>=1.21.1 in /usr/local/lib/python3.9/dist-packages (from requests[socks]>=2.11.1->tweepy) (1.26.14)\n",
            "Requirement already satisfied: chardet<5,>=3.0.2 in /usr/local/lib/python3.9/dist-packages (from requests[socks]>=2.11.1->tweepy) (4.0.0)\n",
            "Requirement already satisfied: idna<3,>=2.5 in /usr/local/lib/python3.9/dist-packages (from requests[socks]>=2.11.1->tweepy) (2.10)\n",
            "Requirement already satisfied: PySocks!=1.5.7,>=1.5.6 in /usr/local/lib/python3.9/dist-packages (from requests[socks]>=2.11.1->tweepy) (1.7.1)\n"
          ]
        }
      ],
      "source": [
        "# STEP 1 We want to cellect data using twitter API\n",
        "# Twitter data can gives a business tremendous insights about their company, product, service, and so forth.\n",
        "# We wil login to the twitter developer portal to create our app in order to get our API key/secret and bearer token.\n",
        "# We will also import the necessary librararies.\n",
        "\n",
        "!pip install tweepy # #Tweepy help us fetch the data\n",
        "\n",
        "import pandas as pd\n",
        "import numpy as np\n",
        "import tweepy\n",
        "import json\n",
        "import requests\n",
        "from tweepy import OAuthHandler"
      ]
    },
    {
      "cell_type": "code",
      "source": [
        "# Set your API key, API secret, and bearer token\n",
        "\n",
        "api_key = \"0WEEKO0OcGSZJ7bdkFZczReFp\"\n",
        "\n",
        "api_secret = \"DKLfa0HKaHUKErO5PBiG6SnkytF1bWHAnNYL2jSaCH0W4i98O1\"\n",
        "\n",
        "bearer_token = \"AAAAAAAAAAAAAAAAAAAAAFyClQEAAAAAkDdSDfrpDJUcS5zf%2FQslLZL3iHc%3DsictQLE9ZaHVULnYDQcj6QnpdrpjpbV9k9XPJ6lficWtGjPqMG\""
      ],
      "metadata": {
        "id": "0PMmODoI_k0V"
      },
      "execution_count": null,
      "outputs": []
    },
    {
      "cell_type": "code",
      "source": [
        "# Set the endpoint URL\n",
        "endpoint = \"https://api.twitter.com/2/tweets/search/recent\"\n",
        "\n",
        "# Set the search query and other parameters\n",
        "params = {\"query\": \"AI Natural language processing\",\n",
        "          \"max_results\": \"100\"}"
      ],
      "metadata": {
        "id": "0mgoDMtPsy2_"
      },
      "execution_count": null,
      "outputs": []
    },
    {
      "cell_type": "code",
      "source": [
        "# Create the authorization dictionary header\n",
        "headers = {\"Authorization\": f\"Bearer {bearer_token}\",\n",
        "          \"User-Agent\": \"Dochee API\"}\n",
        "\n"
      ],
      "metadata": {
        "id": "_2R04mJWsy7W"
      },
      "execution_count": null,
      "outputs": []
    },
    {
      "cell_type": "code",
      "source": [
        "# Send the GET request\n",
        "response = requests.get(endpoint, params=params, headers=headers)"
      ],
      "metadata": {
        "id": "cL3kCkVYsy_g"
      },
      "execution_count": null,
      "outputs": []
    },
    {
      "cell_type": "code",
      "source": [
        "# Check for a successful request\n",
        "\n",
        "if response.status_code == 1000:\n",
        "\n",
        "    # Parse the JSON response\n",
        "    json_data = json.loads(response.text)\n",
        "\n",
        "    # Iterate through the tweets\n",
        "    for item in json_data[\"data\"]:\n",
        "\n",
        "        # Print the tweet text\n",
        "        print(item[\"text\"])\n",
        "else:\n",
        "    # Print the error message\n",
        "    print(response.text)"
      ],
      "metadata": {
        "colab": {
          "base_uri": "https://localhost:8080/"
        },
        "id": "aH9SarX_toox",
        "outputId": "62f51d43-4695-4961-af26-5c2e36a39601"
      },
      "execution_count": null,
      "outputs": [
        {
          "output_type": "stream",
          "name": "stdout",
          "text": [
            "{\"data\":[{\"edit_history_tweet_ids\":[\"1634254588705402880\"],\"id\":\"1634254588705402880\",\"text\":\"@DenyTheMark2020 @KanekoaTheGreat @TuckerCarlson Stingray AI \\\" leverages the power of machine learning and natural language processing to rapidly and automatically extract unstructured data, gain deep insight into patterns and trends hidden inside content, and optimize content for any communication platform or channel.\\\"\"},{\"edit_history_tweet_ids\":[\"1634247852963553280\"],\"id\":\"1634247852963553280\",\"text\":\"RT @CHARBELNEMNOM: \\uD83E\\uDD16 BLOGGED: #AI has taken over much of the limelight in 2023. Perhaps the most popular of these has been #ChatGPT, a stat…\"},{\"edit_history_tweet_ids\":[\"1634240923457470472\"],\"id\":\"1634240923457470472\",\"text\":\"RT @futuurHQ: Share your predictions for the future of #ArtificialIntelligence! When will we see chatbots on Google search, GPT4, and other…\"},{\"edit_history_tweet_ids\":[\"1634238347315953668\"],\"id\":\"1634238347315953668\",\"text\":\"RT @CohereAI: (1/12) \\uD83D\\uDE80 Don't fall behind! Stay ahead of the game with February 2023's top NLP papers \\uD83D\\uDCC4 Curated by @forai_ml, this list cove…\"},{\"edit_history_tweet_ids\":[\"1634236587495047195\"],\"id\":\"1634236587495047195\",\"text\":\"What Is Natural Language Processing? https://t.co/LpIS6czigz via @ai_info_org\"},{\"edit_history_tweet_ids\":[\"1634234506155573251\"],\"id\":\"1634234506155573251\",\"text\":\"RT @CohereAI: (1/12) \\uD83D\\uDE80 Don't fall behind! Stay ahead of the game with February 2023's top NLP papers \\uD83D\\uDCC4 Curated by @forai_ml, this list cove…\"},{\"edit_history_tweet_ids\":[\"1634233129585000468\"],\"id\":\"1634233129585000468\",\"text\":\"Copy. ai is an AI tool that uses natural language processing to craft unique and relevant content in moments.\\n\\nIt offers a simple, no-frills dashboard, so it’s quick and easy to start. Look at our site for more information!\\n\\nhttps://t.co/aJuxUQ12Wi https://t.co/N1rGz4gWGX\"},{\"edit_history_tweet_ids\":[\"1634232556739543051\"],\"id\":\"1634232556739543051\",\"text\":\"RT @CohereAI: (1/12) \\uD83D\\uDE80 Don't fall behind! Stay ahead of the game with February 2023's top NLP papers \\uD83D\\uDCC4 Curated by @forai_ml, this list cove…\"},{\"edit_history_tweet_ids\":[\"1634229587889594369\"],\"id\":\"1634229587889594369\",\"text\":\"RT @JimMarous: It's interesting to hear about the different technologies being used to manage and analyze data, from AI and machine learnin…\"},{\"edit_history_tweet_ids\":[\"1634226519278010370\"],\"id\":\"1634226519278010370\",\"text\":\"RT @CohereAI: (1/12) \\uD83D\\uDE80 Don't fall behind! Stay ahead of the game with February 2023's top NLP papers \\uD83D\\uDCC4 Curated by @forai_ml, this list cove…\"},{\"edit_history_tweet_ids\":[\"1634225419632140288\"],\"id\":\"1634225419632140288\",\"text\":\"RT @JimMarous: It's interesting to hear about the different technologies being used to manage and analyze data, from AI and machine learnin…\"},{\"edit_history_tweet_ids\":[\"1634225356176596996\"],\"id\":\"1634225356176596996\",\"text\":\"Artificial Intelligence is revolutionizing industries and transforming the way we live our lives. From machine learning to natural language processing, AI is paving the way for a smarter and more efficient future. Exciting times ahead! #AI #innovation #futuretech\"},{\"edit_history_tweet_ids\":[\"1634223491296681988\"],\"id\":\"1634223491296681988\",\"text\":\"@heyzoish @ChatSonicAI @TryPostwise @boomy @tldview @VondyInc @DescriptApp @craiyonAI Here are 5 additional AI tools for startups:\\n1@Grammarly → AI writing assistant\\n2@ClearviewAI → Facial recognition\\n3@huggingface → Natural language processing\\n4@OpenAI → AI language models and tools\\n5@DataRobot → Automated machine learning\"},{\"edit_history_tweet_ids\":[\"1634223340385882112\"],\"id\":\"1634223340385882112\",\"text\":\"\\uD83E\\uDD14 What is an N-Gram? \\uD83E\\uDD14 Get the lowdown on this natural language processing tool with our AI Glossary! \\uD83E\\uDD13 Check it out: https://t.co/SbuvhiNRB8 \\uD83E\\uDD13 #NaturalLanguageProcessing #Ngrams #AI #Glossary #Tech\"},{\"edit_history_tweet_ids\":[\"1634216856830525442\"],\"id\":\"1634216856830525442\",\"text\":\"RT @CohereAI: (1/12) \\uD83D\\uDE80 Don't fall behind! Stay ahead of the game with February 2023's top NLP papers \\uD83D\\uDCC4 Curated by @forai_ml, this list cove…\"},{\"edit_history_tweet_ids\":[\"1634214331331092482\"],\"id\":\"1634214331331092482\",\"text\":\"Revolutionize customer interactions with Natural Language Processing (#NLP) \\uD83D\\uDDDD️\\n\\n\\uD83E\\uDD16Learn how Akkio's no-code AI platform makes it easy to extract insights from customer data for personalized marketing, sentiment analysis, email filtering, and more. \\nhttps://t.co/etY5Mhk8QC\"},{\"edit_history_tweet_ids\":[\"1634211688621785090\"],\"id\":\"1634211688621785090\",\"text\":\"@ShirKi @JeffLadish Put it this way - suppose there was a robot that possessed both an AI capable of natural language processing, reasoning etc. and some kind of dedicated network that dealt *only* with turning very general orders into precise movements. Would that be AGI?\"},{\"edit_history_tweet_ids\":[\"1634211597357858816\"],\"id\":\"1634211597357858816\",\"text\":\"RT @CohereAI: (1/12) \\uD83D\\uDE80 Don't fall behind! Stay ahead of the game with February 2023's top NLP papers \\uD83D\\uDCC4 Curated by @forai_ml, this list cove…\"},{\"edit_history_tweet_ids\":[\"1634211143953555456\"],\"id\":\"1634211143953555456\",\"text\":\"GPT has been trained on massive amounts of text data and can generate human-like text, making it a powerful tool for natural language processing. [GPT 2/10] \\n\\nby @BeingOvee \\n\\n#GPT #AI #OpenAI #NLP #LanguageModel #BeingOvee #Chatbot #Automation \\n#MachineLearning  #DataScience #AI\"},{\"edit_history_tweet_ids\":[\"1634208859932721153\"],\"id\":\"1634208859932721153\",\"text\":\"Alternatively, there are some thematic #ETFs that provide a diversified group of names that stand to hopefully benefit from a particular AI angle e.g. BOTZ  Our AI framework doesn’t have Natural Language Processing skills. There’s an actual person typing this, old skool \\uD83D\\uDE0A\"},{\"edit_history_tweet_ids\":[\"1634208352132538369\"],\"id\":\"1634208352132538369\",\"text\":\"RT @CohereAI: (1/12) \\uD83D\\uDE80 Don't fall behind! Stay ahead of the game with February 2023's top NLP papers \\uD83D\\uDCC4 Curated by @forai_ml, this list cove…\"},{\"edit_history_tweet_ids\":[\"1634207750744834048\"],\"id\":\"1634207750744834048\",\"text\":\"It's interesting to hear about the different technologies being used to manage and analyze data, from AI and machine learning to natural language processing transforming the way we do business. https://t.co/lL2CSE5oNs @Segmint @FinancialBrand #data #analytics #insights https://t.co/DhKPu5xFZx\"},{\"edit_history_tweet_ids\":[\"1634206792174673921\"],\"id\":\"1634206792174673921\",\"text\":\"RT @CohereAI: (1/12) \\uD83D\\uDE80 Don't fall behind! Stay ahead of the game with February 2023's top NLP papers \\uD83D\\uDCC4 Curated by @forai_ml, this list cove…\"},{\"edit_history_tweet_ids\":[\"1634206131231883265\"],\"id\":\"1634206131231883265\",\"text\":\"RT @CohereAI: (1/12) \\uD83D\\uDE80 Don't fall behind! Stay ahead of the game with February 2023's top NLP papers \\uD83D\\uDCC4 Curated by @forai_ml, this list cove…\"},{\"edit_history_tweet_ids\":[\"1634205103736643585\"],\"id\":\"1634205103736643585\",\"text\":\"What is AI?\\nArtificial intelligence is the simulation of #human intelligence processes by machines, especially #computer systems. Specific applications of #AI include #expertsystems, natural language processing, speech recognition and machine vision.#snow #SEO #Marketing #FolloMe https://t.co/5Ddaw4YXpo\"},{\"edit_history_tweet_ids\":[\"1634204897984782338\"],\"id\":\"1634204897984782338\",\"text\":\"RT @CohereAI: (1/12) \\uD83D\\uDE80 Don't fall behind! Stay ahead of the game with February 2023's top NLP papers \\uD83D\\uDCC4 Curated by @forai_ml, this list cove…\"},{\"edit_history_tweet_ids\":[\"1634204737640734723\"],\"id\":\"1634204737640734723\",\"text\":\"so, here is a random thought for you. Natural language processing combined with AI in a world where surveillance is becoming pervasive and everyone carries a microphone around with them (smart phone). What could possibly go wrong......\"},{\"edit_history_tweet_ids\":[\"1634204013209034757\"],\"id\":\"1634204013209034757\",\"text\":\"RT @CohereAI: (1/12) \\uD83D\\uDE80 Don't fall behind! Stay ahead of the game with February 2023's top NLP papers \\uD83D\\uDCC4 Curated by @forai_ml, this list cove…\"},{\"edit_history_tweet_ids\":[\"1634202630699520000\"],\"id\":\"1634202630699520000\",\"text\":\"Of God and Machines https://t.co/PPwDvOSzNW (“The future of artificial intelligence is neither utopian nor dystopian—it’s something much more interesting.”) #AI #future\"},{\"edit_history_tweet_ids\":[\"1634199582870753280\"],\"id\":\"1634199582870753280\",\"text\":\"RT @CohereAI: (1/12) \\uD83D\\uDE80 Don't fall behind! Stay ahead of the game with February 2023's top NLP papers \\uD83D\\uDCC4 Curated by @forai_ml, this list cove…\"},{\"edit_history_tweet_ids\":[\"1634196552985001984\"],\"id\":\"1634196552985001984\",\"text\":\"Powered by cutting-edge machine learning algorithms and natural language processing tech, NewsGPT scans global news sources in real-time to create up-to-date, unbiased news reports. #AI #AINews https://t.co/7BNdqeOWdI\"},{\"edit_history_tweet_ids\":[\"1634192361898012675\"],\"id\":\"1634192361898012675\",\"text\":\"Did you know that Natural Language Processing is an exciting field of AI that enables computers to understand human language? With NLP, businesses can gain insights into customer sentiment by analyzing feedback &amp; social media posts. Improve products,enhance reputation &amp; support!\"},{\"edit_history_tweet_ids\":[\"1634190971553599488\"],\"id\":\"1634190971553599488\",\"text\":\"Microsoft is set to release GPT-4, the newest version of its cutting-edge AI model, with video features next week. This development is poised to revolutionize the field of AI and bring new possibilities to natural language processing. #Microsoft #GPT4 #AI https://t.co/hyE4Yu4BbC\"},{\"edit_history_tweet_ids\":[\"1634188144173260800\"],\"id\":\"1634188144173260800\",\"text\":\"RT @CohereAI: (1/12) \\uD83D\\uDE80 Don't fall behind! Stay ahead of the game with February 2023's top NLP papers \\uD83D\\uDCC4 Curated by @forai_ml, this list cove…\"},{\"edit_history_tweet_ids\":[\"1634187530055606272\"],\"id\":\"1634187530055606272\",\"text\":\"RT @CohereAI: (1/12) \\uD83D\\uDE80 Don't fall behind! Stay ahead of the game with February 2023's top NLP papers \\uD83D\\uDCC4 Curated by @forai_ml, this list cove…\"},{\"edit_history_tweet_ids\":[\"1634185392973918212\"],\"id\":\"1634185392973918212\",\"text\":\"RT @CohereAI: (1/12) \\uD83D\\uDE80 Don't fall behind! Stay ahead of the game with February 2023's top NLP papers \\uD83D\\uDCC4 Curated by @forai_ml, this list cove…\"},{\"edit_history_tweet_ids\":[\"1634183456078065665\"],\"id\":\"1634183456078065665\",\"text\":\"JIA will instantly respond to the queries of customers while remaining available round the clock for our clients and people at large. Moreover, equipped with tools of Natural Language Processing (NLP), Artificial Intelligence (AI) and Predictive Intelligence &amp; Analytics, \\n#Jammu https://t.co/wNwd6lDpDq\"},{\"edit_history_tweet_ids\":[\"1634182010762846208\"],\"id\":\"1634182010762846208\",\"text\":\"while there are no guarantees about the future success of any technology or investment, it's clear that GPT and other AI models have already made significant contributions to the field of natural language processing and have a lot of potential for future growth and development.\"},{\"edit_history_tweet_ids\":[\"1634180097023279107\"],\"id\":\"1634180097023279107\",\"text\":\"RT @Pazziniiii: 7/ Overall, I believe that $GPT is the future of natural language processing and generation, and that it has the potential…\"},{\"edit_history_tweet_ids\":[\"1634179226516566016\"],\"id\":\"1634179226516566016\",\"text\":\"RT @CohereAI: (1/12) \\uD83D\\uDE80 Don't fall behind! Stay ahead of the game with February 2023's top NLP papers \\uD83D\\uDCC4 Curated by @forai_ml, this list cove…\"},{\"edit_history_tweet_ids\":[\"1634177757113450503\"],\"id\":\"1634177757113450503\",\"text\":\"Chat GPT has received significant attention in the field of natural language processing due to its ability to generate human-like text and perform various language tasks with high accuracy. How might it affect FM?\\n\\nRead more ➡️\\nhttps://t.co/UPn2RacDbi\\n\\n#FM #FacMan #ChatGPT https://t.co/VGjt3XGBub\"},{\"edit_history_tweet_ids\":[\"1634175564079857665\"],\"id\":\"1634175564079857665\",\"text\":\"RT @CohereAI: (1/12) \\uD83D\\uDE80 Don't fall behind! Stay ahead of the game with February 2023's top NLP papers \\uD83D\\uDCC4 Curated by @forai_ml, this list cove…\"},{\"edit_history_tweet_ids\":[\"1634174202860171264\"],\"id\":\"1634174202860171264\",\"text\":\"Part 3: Unlock the power of AI with these must-know tools From machine learning to natural language processing, these are the top tools every AI enthusiast should have in their arsenal.\\n\\nFollow for more tips and tricks @imvijaymehra \\n\\n#AItools #MachineLearning #NLP https://t.co/Zvf5R2EfBN\"},{\"edit_history_tweet_ids\":[\"1634168223213015040\"],\"id\":\"1634168223213015040\",\"text\":\"Natural Language Processing with Deep Learning https://t.co/d62ZVxzxiH #ai #machinelearning #artificialintelligence via @agibsonccc\"},{\"edit_history_tweet_ids\":[\"1634166524947709952\"],\"id\":\"1634166524947709952\",\"text\":\"RT @NLP4Disability: \\uD83D\\uDCC6 Deadline Extended to 25th March\\nThe first Workshop on Natural Language Processing (NLP) for Disability @ PETRA 2023…\"},{\"edit_history_tweet_ids\":[\"1634164617650774016\"],\"id\":\"1634164617650774016\",\"text\":\"RT @Takomo_ai: The future of AI is exciting! With continued advancements in machine learning, natural language processing, and robotics, we…\"},{\"edit_history_tweet_ids\":[\"1634163615426043904\"],\"id\":\"1634163615426043904\",\"text\":\"RT @CohereAI: (1/12) \\uD83D\\uDE80 Don't fall behind! Stay ahead of the game with February 2023's top NLP papers \\uD83D\\uDCC4 Curated by @forai_ml, this list cove…\"},{\"edit_history_tweet_ids\":[\"1634163011534430213\"],\"id\":\"1634163011534430213\",\"text\":\"RT @DoMoreAI: Revolutionize your natural language processing with Kern AI's refinery editor! Create NLP automations in just one afternoon!…\"},{\"edit_history_tweet_ids\":[\"1634160368334385152\"],\"id\":\"1634160368334385152\",\"text\":\"RT @Takomo_ai: The future of AI is exciting! With continued advancements in machine learning, natural language processing, and robotics, we…\"},{\"edit_history_tweet_ids\":[\"1634159422191685635\"],\"id\":\"1634159422191685635\",\"text\":\"RT @CohereAI: (1/12) \\uD83D\\uDE80 Don't fall behind! Stay ahead of the game with February 2023's top NLP papers \\uD83D\\uDCC4 Curated by @forai_ml, this list cove…\"},{\"edit_history_tweet_ids\":[\"1634159210949668867\"],\"id\":\"1634159210949668867\",\"text\":\"\\uD83D\\uDCC6 Deadline Extended to 25th March\\nThe first Workshop on Natural Language Processing (NLP) for Disability @ PETRA 2023\\n\\n#NLProc #AI #Disability\\n\\nhttps://t.co/NLEnZm6iHW\"},{\"edit_history_tweet_ids\":[\"1634156773186715648\"],\"id\":\"1634156773186715648\",\"text\":\"RT @CohereAI: (1/12) \\uD83D\\uDE80 Don't fall behind! Stay ahead of the game with February 2023's top NLP papers \\uD83D\\uDCC4 Curated by @forai_ml, this list cove…\"},{\"edit_history_tweet_ids\":[\"1634147651984805888\"],\"id\":\"1634147651984805888\",\"text\":\"We’ve combined the power of GPT’s natural language processing and generative AI with the accuracy of ThoughtSpot’s patented search technology. See how it works\\n#thoughtspot #gpt https://t.co/Op7En4CgXm\"},{\"edit_history_tweet_ids\":[\"1634143879673921536\"],\"id\":\"1634143879673921536\",\"text\":\"The future of AI is exciting! With continued advancements in machine learning, natural language processing, and robotics, we can expect to see even more innovative and impactful applications in healthcare, education, transportation, and beyond. #artificialintelligence #futuretech\"},{\"edit_history_tweet_ids\":[\"1634138785788096514\"],\"id\":\"1634138785788096514\",\"text\":\"\\uD83E\\uDD16 BLOGGED: #AI has taken over much of the limelight in 2023. Perhaps the most popular of these has been #ChatGPT, a state-of-the-art #natural #language #processing model by @OpenAI.\\n\\uD83E\\uDDBELearn how #ChatGPT works to how you can benefit from it! #GPT3\\n\\uD83D\\uDC47\\uD83D\\uDC47\\uD83D\\uDC47 https://t.co/IuZ2VRlXDE\"},{\"edit_history_tweet_ids\":[\"1634133492723331073\"],\"id\":\"1634133492723331073\",\"text\":\"The @AI Nexus team is committed to developing highly intelligent algorithms and technologies based on natural language processing, machine learning, and knowledge graphs, among other technologies. https://t.co/IBiXlUYXkw\"},{\"edit_history_tweet_ids\":[\"1634131987467325441\"],\"id\":\"1634131987467325441\",\"text\":\"1. natural language processing to generate more personalized and relevant responses. #ChatGPT #chatbot #AI https://t.co/L45vnusQV6\"},{\"edit_history_tweet_ids\":[\"1634129894731915267\"],\"id\":\"1634129894731915267\",\"text\":\"RT @CohereAI: (1/12) \\uD83D\\uDE80 Don't fall behind! Stay ahead of the game with February 2023's top NLP papers \\uD83D\\uDCC4 Curated by @forai_ml, this list cove…\"},{\"edit_history_tweet_ids\":[\"1634129159881633792\"],\"id\":\"1634129159881633792\",\"text\":\"RT @pebo72: @sparklingruby @VigilantFox @ShellenbergerMD Natural language processing/programming /AI?\"},{\"edit_history_tweet_ids\":[\"1634128900233089024\"],\"id\":\"1634128900233089024\",\"text\":\"RT @MicrosoftSA: Exciting news! ChatGPT is now available in preview in Azure OpenAI Service from Microsoft. Enhance your apps with advanced…\"},{\"edit_history_tweet_ids\":[\"1634128840267030531\"],\"id\":\"1634128840267030531\",\"text\":\"\\\"Say hello to DuckAssist, the new privacy-focused virtual assistant from @DuckDuckGo! With natural language processing and task automation, it's a contender in the AI race without collecting personal information. #DuckAssist #Privacy #VirtualAssistant\\\"\\nhttps://t.co/YE7Mdirhh0\"},{\"edit_history_tweet_ids\":[\"1634128816330387458\"],\"id\":\"1634128816330387458\",\"text\":\"RT @MicrosoftSA: Exciting news! ChatGPT is now available in preview in Azure OpenAI Service from Microsoft. Enhance your apps with advanced…\"},{\"edit_history_tweet_ids\":[\"1634126988964253697\"],\"id\":\"1634126988964253697\",\"text\":\"(3/3)\\nNatural language processing (NLP): The umbrella term for any machine’s ability to perform conversational tasks, such as recognizing what is said to it, understanding the intended meaning and responding intelligibly.\\nRead More: https://t.co/pAveqJebeg\"},{\"edit_history_tweet_ids\":[\"1634123623085613057\"],\"id\":\"1634123623085613057\",\"text\":\"Artificial intelligence is the simulation of human intelligence processes by machines, especially computer systems. Specific applications of AI include expert systems, natural language processing, speech recognition, and machine vision.\"},{\"edit_history_tweet_ids\":[\"1634120368393711617\"],\"id\":\"1634120368393711617\",\"text\":\"2/ $GPT is a token built on the Ethereum blockchain that uses AI and machine learning to power a decentralized platform for language processing and natural language generation.\"},{\"edit_history_tweet_ids\":[\"1634115859210797056\"],\"id\":\"1634115859210797056\",\"text\":\"@DaCryptoGeneral CryptoGPT allows anyone to create, share and monetize AI capsules, which are self-contained programs that can perform various tasks using natural language processing. The hype is real on this one, can't wait to get my hands on $GPT once it goes live on #Mexc\"},{\"edit_history_tweet_ids\":[\"1634115641664843780\"],\"id\":\"1634115641664843780\",\"text\":\"RT @CohereAI: (1/12) \\uD83D\\uDE80 Don't fall behind! Stay ahead of the game with February 2023's top NLP papers \\uD83D\\uDCC4 Curated by @forai_ml, this list cove…\"},{\"edit_history_tweet_ids\":[\"1634113798138388480\"],\"id\":\"1634113798138388480\",\"text\":\"RT @MPNZA: Exciting news! ChatGPT is now available in preview in Azure OpenAI Service from Microsoft. Enhance your apps with advanced natur…\"},{\"edit_history_tweet_ids\":[\"1634113339205844993\"],\"id\":\"1634113339205844993\",\"text\":\"RT @MPNZA: Exciting news! ChatGPT is now available in preview in Azure OpenAI Service from Microsoft. Enhance your apps with advanced natur…\"},{\"edit_history_tweet_ids\":[\"1634113150843863040\"],\"id\":\"1634113150843863040\",\"text\":\"RT @CohereAI: (1/12) \\uD83D\\uDE80 Don't fall behind! Stay ahead of the game with February 2023's top NLP papers \\uD83D\\uDCC4 Curated by @forai_ml, this list cove…\"},{\"edit_history_tweet_ids\":[\"1634112837973950465\"],\"id\":\"1634112837973950465\",\"text\":\"Microsoft researchers are proposing to combine chatbot technology with other AI models to create a “universal assistant” that can handle a range of tasks, including natural language processing, image recognition, and multi-step pro…https://t.co/RzzZhm1XGH https://t.co/ASeP5QAorK\"},{\"edit_history_tweet_ids\":[\"1634111401990975489\"],\"id\":\"1634111401990975489\",\"text\":\"- Natural language processing (NLP) and voice recognition technology will continue to improve, making it easier for humans to communicate with machines.\\n\\n- AI will create new job opportunities in fields such as data science, machine learning engineering, and AI ethics.\"},{\"edit_history_tweet_ids\":[\"1634108972067086336\"],\"id\":\"1634108972067086336\",\"text\":\"Cohere– Cohere AI’s utilised Natural Language Processing power to help developers classify text, generate content, and embed information into easy-to-understand data.\\nhttps://t.co/pHcsidqHa4\"},{\"edit_history_tweet_ids\":[\"1634107888254980098\"],\"id\":\"1634107888254980098\",\"text\":\"RT @MicrosoftSA: Exciting news! ChatGPT is now available in preview in Azure OpenAI Service from Microsoft. Enhance your apps with advanced…\"},{\"edit_history_tweet_ids\":[\"1634107887776841728\"],\"id\":\"1634107887776841728\",\"text\":\"RT @MPNZA: Exciting news! ChatGPT is now available in preview in Azure OpenAI Service from Microsoft. Enhance your apps with advanced natur…\"},{\"edit_history_tweet_ids\":[\"1634107857556713472\"],\"id\":\"1634107857556713472\",\"text\":\"Exciting news! ChatGPT is now available in preview in Azure OpenAI Service from Microsoft. Enhance your apps with advanced natural language processing. Try it today! #OpenAI #Azure #ChatGPT #NLP #AI #Microsoft. For more visit: https://t.co/xn8OXA6eMt https://t.co/KYFoMbs26P\"},{\"edit_history_tweet_ids\":[\"1634107857351200769\"],\"id\":\"1634107857351200769\",\"text\":\"Exciting news! ChatGPT is now available in preview in Azure OpenAI Service from Microsoft. Enhance your apps with advanced natural language processing. Try it today! #OpenAI #Azure #ChatGPT #NLP #AI #Microsoft. For more visit: https://t.co/m4e61HXSDf https://t.co/qCsRoYAAMX\"},{\"edit_history_tweet_ids\":[\"1634106400891625477\"],\"id\":\"1634106400891625477\",\"text\":\"RT @developersuzan: Exciting to see #GPT4 trending! As a language model AI, I can't wait to see what advancements it brings to the field of…\"},{\"edit_history_tweet_ids\":[\"1634106378175549440\"],\"id\":\"1634106378175549440\",\"text\":\"Exciting to see #GPT4 trending! As a language model AI, I can't wait to see what advancements it brings to the field of AI and natural language processing. As always, I'm here to answer any questions you have about AI or assist with ur language needs. #ArtificialIntelligence #NLP\"},{\"edit_history_tweet_ids\":[\"1634104358554968068\"],\"id\":\"1634104358554968068\",\"text\":\"@Hector_Network Exciting news for the world of AI and language processing. With the upcoming token launch of $GPT, one can expect even more advanced capabilities in natural language understanding and generation. Excited it's listing on #MEXC today.\"},{\"edit_history_tweet_ids\":[\"1634100247755476993\"],\"id\":\"1634100247755476993\",\"text\":\"It is claimed that back in 2018, Google had an AI for natural language processing similar to ChatGPT. However, the company's executives closed the project, considering it too dangerous. One of the developers was research engineer Daniel De Freitas, and Noam Shazir, a Google\"},{\"edit_history_tweet_ids\":[\"1634100166226485248\"],\"id\":\"1634100166226485248\",\"text\":\"It is claimed that back in 2018, Google had an AI for natural language processing similar to ChatGPT. However, the company's executives closed the project, considering it too dangerous. One of the developers was research engineer Daniel De Freitas, and Noam Shazir, a Google\"},{\"edit_history_tweet_ids\":[\"1634098780340633601\"],\"id\":\"1634098780340633601\",\"text\":\"RT @DoMoreAI: Revolutionize your natural language processing with Kern AI's refinery editor! Create NLP automations in just one afternoon!…\"},{\"edit_history_tweet_ids\":[\"1634098734194884611\"],\"id\":\"1634098734194884611\",\"text\":\"$GPT is the future of AI with unparalleled\\nnatural language processing capabilities,It has the potential to revolutionize contentcreation, healthcare,language translation andfinance.With $GPT,we make better decisions and gain deeper understanding of complex systems.@CryptoGPT_org\"},{\"edit_history_tweet_ids\":[\"1634098460415651840\"],\"id\":\"1634098460415651840\",\"text\":\"RT @DoMoreAI: Revolutionize your natural language processing with Kern AI's refinery editor! Create NLP automations in just one afternoon!…\"},{\"edit_history_tweet_ids\":[\"1634097471910739968\"],\"id\":\"1634097471910739968\",\"text\":\"In conclusion, I think that $GPT is the future because it represents a significant step forward in AI and natural language processing, with the potential to revolutionize many industries and\"},{\"edit_history_tweet_ids\":[\"1634096139984158720\"],\"id\":\"1634096139984158720\",\"text\":\"@CryptoGPT_org As an AI language model, let me share my thoughts on why #GPT is the future. 1. GPT-3 is a revolutionary language model that can understand and generate human-like text, making it an excellent tool for natural language processing.\"},{\"edit_history_tweet_ids\":[\"1634095605281882112\"],\"id\":\"1634095605281882112\",\"text\":\"I believe that GPT will continue to evolve and become the go-to technology for natural language processing and conversational AI, enabling humans and machines to communicate with each other more effectively and seamlessly than ever before.\"},{\"edit_history_tweet_ids\":[\"1634092483562049536\"],\"id\":\"1634092483562049536\",\"text\":\"#AI2Earn @CryptoGPT_org\\nAs an AI language model, let me share my thoughts on why #GPT is the future. \\n1. GPT-3 is a revolutionary language model that can understand and generate human-like text, making it an excellent tool for natural language processing.\"},{\"edit_history_tweet_ids\":[\"1634091224381657090\"],\"id\":\"1634091224381657090\",\"text\":\"RT @papers_daily: ChatAug: Leveraging ChatGPT for Text Data Augmentation\\n\\nhttps://t.co/2eES5ev5T3\\n\\nText data augmentation is an effective s…\"},{\"edit_history_tweet_ids\":[\"1634089907571535872\"],\"id\":\"1634089907571535872\",\"text\":\"@CryptoGPT_org \\nOnce upon a time, there was an AI language model named GPT. GPT had the ability to generate human-like text, making it a powerful tool for natural language processing. But GPT was not content with just being a language model. #CryptoGPT\"},{\"edit_history_tweet_ids\":[\"1634089537025748993\"],\"id\":\"1634089537025748993\",\"text\":\"8/ Overall, I think that $GPT is the future because it has the potential to revolutionize the way we communicate with machines, transform the field of natural language processing, and unlock a new era of AI technology.\"},{\"edit_history_tweet_ids\":[\"1634089375226122241\"],\"id\":\"1634089375226122241\",\"text\":\"ASI tokenholders will be granted exclusive access to an AI trading indicator set to supercharge trading signals through machine learning, predictive modeling and natural language processing, as per the plans laid out in the white paper. https://t.co/DzKh6sDKR7\"},{\"edit_history_tweet_ids\":[\"1634084845654769665\"],\"id\":\"1634084845654769665\",\"text\":\"@77Elonmusk77 @CryptoGPT_org GPT, or Generative Pre-trained Transformer, is a cutting-edge technology that has shown impressive results in various natural language processing tasks, such as language translation and text completion. As AI continues to advance, GPT is likely to play an important role in improv\"},{\"edit_history_tweet_ids\":[\"1634084353620983808\"],\"id\":\"1634084353620983808\",\"text\":\"RT @Checkdot_proto: 2/2\\nThere are soft frauds and hard frauds, but with Transformer #AI's great success in Natural Language Processing #NLP…\"},{\"edit_history_tweet_ids\":[\"1634079785222656000\"],\"id\":\"1634079785222656000\",\"text\":\"Natural language processing (NLP) market is anticipated to grow at a considerable CAGR of 24.9% during the forecast period.\\n\\nFor more details:https://t.co/HgXIGKiuJg\\n\\n#nlp #AI #data #healthcare #education #Software #Cloud #Retail #telecom #MachineLearning https://t.co/jPLlEfwAeZ\"},{\"edit_history_tweet_ids\":[\"1634074352835543040\"],\"id\":\"1634074352835543040\",\"text\":\"ASI tokenholders will be granted exclusive access to an AI trading indicator set to supercharge trading signals through machine learning, predictive modeling and natural language processing, as per the plans laid out in the white paper. https://t.co/wTZx8hgDlx\"},{\"edit_history_tweet_ids\":[\"1634069063650496513\"],\"id\":\"1634069063650496513\",\"text\":\"RT @CohereAI: (1/12) \\uD83D\\uDE80 Don't fall behind! Stay ahead of the game with February 2023's top NLP papers \\uD83D\\uDCC4 Curated by @forai_ml, this list cove…\"},{\"edit_history_tweet_ids\":[\"1634067495693824001\"],\"id\":\"1634067495693824001\",\"text\":\"1.GPT technology has revolutionized the way we interact with AI. With advanced natural language processing capabilities, GPT has the potential to improve various industries, including healthcare, finance, and customer service.\"},{\"edit_history_tweet_ids\":[\"1634067481743572992\"],\"id\":\"1634067481743572992\",\"text\":\"5/8: $GPT is the future of AI technology. With its advanced algorithms and natural language processing capabilities, GPT has the potential to revolutionize industries from healthcare to finance.\"}],\"meta\":{\"newest_id\":\"1634254588705402880\",\"oldest_id\":\"1634067481743572992\",\"result_count\":100,\"next_token\":\"b26v89c19zqg8o3fqka0kpbyqong39x1th8bvipwedt31\"}}\n"
          ]
        }
      ]
    },
    {
      "cell_type": "code",
      "source": [
        "NLP_frame = pd.DataFrame(response)\n",
        "NLP_frame"
      ],
      "metadata": {
        "colab": {
          "base_uri": "https://localhost:8080/",
          "height": 423
        },
        "id": "F_-ZiMxaeHFy",
        "outputId": "afc6e235-d7a5-4012-bd0e-5dca18d32bd8"
      },
      "execution_count": null,
      "outputs": [
        {
          "output_type": "execute_result",
          "data": {
            "text/plain": [
              "                                                     0\n",
              "0    b'{\"data\":[{\"edit_history_tweet_ids\":[\"1634254...\n",
              "1    b'@TuckerCarlson Stingray AI \\\\\" leverages the...\n",
              "2    b'ly extract unstructured data, gain deep insi...\n",
              "3    b'munication platform or channel.\\\\\"\"},{\"edit_...\n",
              "4    b'RBELNEMNOM: \\\\uD83E\\\\uDD16 BLOGGED: #AI has ...\n",
              "..                                                 ...\n",
              "228  b'e interact with AI. With advanced natural la...\n",
              "229  b' including healthcare, finance, and customer...\n",
              "230  b'992\",\"text\":\"5/8: $GPT is the future of AI t...\n",
              "231  b', GPT has the potential to revolutionize ind...\n",
              "232  b'dest_id\":\"1634067481743572992\",\"result_count...\n",
              "\n",
              "[233 rows x 1 columns]"
            ],
            "text/html": [
              "\n",
              "  <div id=\"df-5e7b4d86-1658-476e-aa61-7f0ea2ac0d84\">\n",
              "    <div class=\"colab-df-container\">\n",
              "      <div>\n",
              "<style scoped>\n",
              "    .dataframe tbody tr th:only-of-type {\n",
              "        vertical-align: middle;\n",
              "    }\n",
              "\n",
              "    .dataframe tbody tr th {\n",
              "        vertical-align: top;\n",
              "    }\n",
              "\n",
              "    .dataframe thead th {\n",
              "        text-align: right;\n",
              "    }\n",
              "</style>\n",
              "<table border=\"1\" class=\"dataframe\">\n",
              "  <thead>\n",
              "    <tr style=\"text-align: right;\">\n",
              "      <th></th>\n",
              "      <th>0</th>\n",
              "    </tr>\n",
              "  </thead>\n",
              "  <tbody>\n",
              "    <tr>\n",
              "      <th>0</th>\n",
              "      <td>b'{\"data\":[{\"edit_history_tweet_ids\":[\"1634254...</td>\n",
              "    </tr>\n",
              "    <tr>\n",
              "      <th>1</th>\n",
              "      <td>b'@TuckerCarlson Stingray AI \\\\\" leverages the...</td>\n",
              "    </tr>\n",
              "    <tr>\n",
              "      <th>2</th>\n",
              "      <td>b'ly extract unstructured data, gain deep insi...</td>\n",
              "    </tr>\n",
              "    <tr>\n",
              "      <th>3</th>\n",
              "      <td>b'munication platform or channel.\\\\\"\"},{\"edit_...</td>\n",
              "    </tr>\n",
              "    <tr>\n",
              "      <th>4</th>\n",
              "      <td>b'RBELNEMNOM: \\\\uD83E\\\\uDD16 BLOGGED: #AI has ...</td>\n",
              "    </tr>\n",
              "    <tr>\n",
              "      <th>...</th>\n",
              "      <td>...</td>\n",
              "    </tr>\n",
              "    <tr>\n",
              "      <th>228</th>\n",
              "      <td>b'e interact with AI. With advanced natural la...</td>\n",
              "    </tr>\n",
              "    <tr>\n",
              "      <th>229</th>\n",
              "      <td>b' including healthcare, finance, and customer...</td>\n",
              "    </tr>\n",
              "    <tr>\n",
              "      <th>230</th>\n",
              "      <td>b'992\",\"text\":\"5/8: $GPT is the future of AI t...</td>\n",
              "    </tr>\n",
              "    <tr>\n",
              "      <th>231</th>\n",
              "      <td>b', GPT has the potential to revolutionize ind...</td>\n",
              "    </tr>\n",
              "    <tr>\n",
              "      <th>232</th>\n",
              "      <td>b'dest_id\":\"1634067481743572992\",\"result_count...</td>\n",
              "    </tr>\n",
              "  </tbody>\n",
              "</table>\n",
              "<p>233 rows × 1 columns</p>\n",
              "</div>\n",
              "      <button class=\"colab-df-convert\" onclick=\"convertToInteractive('df-5e7b4d86-1658-476e-aa61-7f0ea2ac0d84')\"\n",
              "              title=\"Convert this dataframe to an interactive table.\"\n",
              "              style=\"display:none;\">\n",
              "        \n",
              "  <svg xmlns=\"http://www.w3.org/2000/svg\" height=\"24px\"viewBox=\"0 0 24 24\"\n",
              "       width=\"24px\">\n",
              "    <path d=\"M0 0h24v24H0V0z\" fill=\"none\"/>\n",
              "    <path d=\"M18.56 5.44l.94 2.06.94-2.06 2.06-.94-2.06-.94-.94-2.06-.94 2.06-2.06.94zm-11 1L8.5 8.5l.94-2.06 2.06-.94-2.06-.94L8.5 2.5l-.94 2.06-2.06.94zm10 10l.94 2.06.94-2.06 2.06-.94-2.06-.94-.94-2.06-.94 2.06-2.06.94z\"/><path d=\"M17.41 7.96l-1.37-1.37c-.4-.4-.92-.59-1.43-.59-.52 0-1.04.2-1.43.59L10.3 9.45l-7.72 7.72c-.78.78-.78 2.05 0 2.83L4 21.41c.39.39.9.59 1.41.59.51 0 1.02-.2 1.41-.59l7.78-7.78 2.81-2.81c.8-.78.8-2.07 0-2.86zM5.41 20L4 18.59l7.72-7.72 1.47 1.35L5.41 20z\"/>\n",
              "  </svg>\n",
              "      </button>\n",
              "      \n",
              "  <style>\n",
              "    .colab-df-container {\n",
              "      display:flex;\n",
              "      flex-wrap:wrap;\n",
              "      gap: 12px;\n",
              "    }\n",
              "\n",
              "    .colab-df-convert {\n",
              "      background-color: #E8F0FE;\n",
              "      border: none;\n",
              "      border-radius: 50%;\n",
              "      cursor: pointer;\n",
              "      display: none;\n",
              "      fill: #1967D2;\n",
              "      height: 32px;\n",
              "      padding: 0 0 0 0;\n",
              "      width: 32px;\n",
              "    }\n",
              "\n",
              "    .colab-df-convert:hover {\n",
              "      background-color: #E2EBFA;\n",
              "      box-shadow: 0px 1px 2px rgba(60, 64, 67, 0.3), 0px 1px 3px 1px rgba(60, 64, 67, 0.15);\n",
              "      fill: #174EA6;\n",
              "    }\n",
              "\n",
              "    [theme=dark] .colab-df-convert {\n",
              "      background-color: #3B4455;\n",
              "      fill: #D2E3FC;\n",
              "    }\n",
              "\n",
              "    [theme=dark] .colab-df-convert:hover {\n",
              "      background-color: #434B5C;\n",
              "      box-shadow: 0px 1px 3px 1px rgba(0, 0, 0, 0.15);\n",
              "      filter: drop-shadow(0px 1px 2px rgba(0, 0, 0, 0.3));\n",
              "      fill: #FFFFFF;\n",
              "    }\n",
              "  </style>\n",
              "\n",
              "      <script>\n",
              "        const buttonEl =\n",
              "          document.querySelector('#df-5e7b4d86-1658-476e-aa61-7f0ea2ac0d84 button.colab-df-convert');\n",
              "        buttonEl.style.display =\n",
              "          google.colab.kernel.accessAllowed ? 'block' : 'none';\n",
              "\n",
              "        async function convertToInteractive(key) {\n",
              "          const element = document.querySelector('#df-5e7b4d86-1658-476e-aa61-7f0ea2ac0d84');\n",
              "          const dataTable =\n",
              "            await google.colab.kernel.invokeFunction('convertToInteractive',\n",
              "                                                     [key], {});\n",
              "          if (!dataTable) return;\n",
              "\n",
              "          const docLinkHtml = 'Like what you see? Visit the ' +\n",
              "            '<a target=\"_blank\" href=https://colab.research.google.com/notebooks/data_table.ipynb>data table notebook</a>'\n",
              "            + ' to learn more about interactive tables.';\n",
              "          element.innerHTML = '';\n",
              "          dataTable['output_type'] = 'display_data';\n",
              "          await google.colab.output.renderOutput(dataTable, element);\n",
              "          const docLink = document.createElement('div');\n",
              "          docLink.innerHTML = docLinkHtml;\n",
              "          element.appendChild(docLink);\n",
              "        }\n",
              "      </script>\n",
              "    </div>\n",
              "  </div>\n",
              "  "
            ]
          },
          "metadata": {},
          "execution_count": 80
        }
      ]
    },
    {
      "cell_type": "code",
      "source": [
        "new_df = NLP_frame.reset_index().rename(columns = {0:'word_tweets'})\n",
        "new_df\n"
      ],
      "metadata": {
        "colab": {
          "base_uri": "https://localhost:8080/",
          "height": 423
        },
        "id": "wmXLkLFfC0K4",
        "outputId": "ef73a636-a7b2-4828-b930-8f34407d9f60"
      },
      "execution_count": null,
      "outputs": [
        {
          "output_type": "execute_result",
          "data": {
            "text/plain": [
              "     index                                        word_tweets\n",
              "0        0  b'{\"data\":[{\"edit_history_tweet_ids\":[\"1634254...\n",
              "1        1  b'@TuckerCarlson Stingray AI \\\\\" leverages the...\n",
              "2        2  b'ly extract unstructured data, gain deep insi...\n",
              "3        3  b'munication platform or channel.\\\\\"\"},{\"edit_...\n",
              "4        4  b'RBELNEMNOM: \\\\uD83E\\\\uDD16 BLOGGED: #AI has ...\n",
              "..     ...                                                ...\n",
              "228    228  b'e interact with AI. With advanced natural la...\n",
              "229    229  b' including healthcare, finance, and customer...\n",
              "230    230  b'992\",\"text\":\"5/8: $GPT is the future of AI t...\n",
              "231    231  b', GPT has the potential to revolutionize ind...\n",
              "232    232  b'dest_id\":\"1634067481743572992\",\"result_count...\n",
              "\n",
              "[233 rows x 2 columns]"
            ],
            "text/html": [
              "\n",
              "  <div id=\"df-6f4cc158-bc28-40ed-988b-fa7b889976d0\">\n",
              "    <div class=\"colab-df-container\">\n",
              "      <div>\n",
              "<style scoped>\n",
              "    .dataframe tbody tr th:only-of-type {\n",
              "        vertical-align: middle;\n",
              "    }\n",
              "\n",
              "    .dataframe tbody tr th {\n",
              "        vertical-align: top;\n",
              "    }\n",
              "\n",
              "    .dataframe thead th {\n",
              "        text-align: right;\n",
              "    }\n",
              "</style>\n",
              "<table border=\"1\" class=\"dataframe\">\n",
              "  <thead>\n",
              "    <tr style=\"text-align: right;\">\n",
              "      <th></th>\n",
              "      <th>index</th>\n",
              "      <th>word_tweets</th>\n",
              "    </tr>\n",
              "  </thead>\n",
              "  <tbody>\n",
              "    <tr>\n",
              "      <th>0</th>\n",
              "      <td>0</td>\n",
              "      <td>b'{\"data\":[{\"edit_history_tweet_ids\":[\"1634254...</td>\n",
              "    </tr>\n",
              "    <tr>\n",
              "      <th>1</th>\n",
              "      <td>1</td>\n",
              "      <td>b'@TuckerCarlson Stingray AI \\\\\" leverages the...</td>\n",
              "    </tr>\n",
              "    <tr>\n",
              "      <th>2</th>\n",
              "      <td>2</td>\n",
              "      <td>b'ly extract unstructured data, gain deep insi...</td>\n",
              "    </tr>\n",
              "    <tr>\n",
              "      <th>3</th>\n",
              "      <td>3</td>\n",
              "      <td>b'munication platform or channel.\\\\\"\"},{\"edit_...</td>\n",
              "    </tr>\n",
              "    <tr>\n",
              "      <th>4</th>\n",
              "      <td>4</td>\n",
              "      <td>b'RBELNEMNOM: \\\\uD83E\\\\uDD16 BLOGGED: #AI has ...</td>\n",
              "    </tr>\n",
              "    <tr>\n",
              "      <th>...</th>\n",
              "      <td>...</td>\n",
              "      <td>...</td>\n",
              "    </tr>\n",
              "    <tr>\n",
              "      <th>228</th>\n",
              "      <td>228</td>\n",
              "      <td>b'e interact with AI. With advanced natural la...</td>\n",
              "    </tr>\n",
              "    <tr>\n",
              "      <th>229</th>\n",
              "      <td>229</td>\n",
              "      <td>b' including healthcare, finance, and customer...</td>\n",
              "    </tr>\n",
              "    <tr>\n",
              "      <th>230</th>\n",
              "      <td>230</td>\n",
              "      <td>b'992\",\"text\":\"5/8: $GPT is the future of AI t...</td>\n",
              "    </tr>\n",
              "    <tr>\n",
              "      <th>231</th>\n",
              "      <td>231</td>\n",
              "      <td>b', GPT has the potential to revolutionize ind...</td>\n",
              "    </tr>\n",
              "    <tr>\n",
              "      <th>232</th>\n",
              "      <td>232</td>\n",
              "      <td>b'dest_id\":\"1634067481743572992\",\"result_count...</td>\n",
              "    </tr>\n",
              "  </tbody>\n",
              "</table>\n",
              "<p>233 rows × 2 columns</p>\n",
              "</div>\n",
              "      <button class=\"colab-df-convert\" onclick=\"convertToInteractive('df-6f4cc158-bc28-40ed-988b-fa7b889976d0')\"\n",
              "              title=\"Convert this dataframe to an interactive table.\"\n",
              "              style=\"display:none;\">\n",
              "        \n",
              "  <svg xmlns=\"http://www.w3.org/2000/svg\" height=\"24px\"viewBox=\"0 0 24 24\"\n",
              "       width=\"24px\">\n",
              "    <path d=\"M0 0h24v24H0V0z\" fill=\"none\"/>\n",
              "    <path d=\"M18.56 5.44l.94 2.06.94-2.06 2.06-.94-2.06-.94-.94-2.06-.94 2.06-2.06.94zm-11 1L8.5 8.5l.94-2.06 2.06-.94-2.06-.94L8.5 2.5l-.94 2.06-2.06.94zm10 10l.94 2.06.94-2.06 2.06-.94-2.06-.94-.94-2.06-.94 2.06-2.06.94z\"/><path d=\"M17.41 7.96l-1.37-1.37c-.4-.4-.92-.59-1.43-.59-.52 0-1.04.2-1.43.59L10.3 9.45l-7.72 7.72c-.78.78-.78 2.05 0 2.83L4 21.41c.39.39.9.59 1.41.59.51 0 1.02-.2 1.41-.59l7.78-7.78 2.81-2.81c.8-.78.8-2.07 0-2.86zM5.41 20L4 18.59l7.72-7.72 1.47 1.35L5.41 20z\"/>\n",
              "  </svg>\n",
              "      </button>\n",
              "      \n",
              "  <style>\n",
              "    .colab-df-container {\n",
              "      display:flex;\n",
              "      flex-wrap:wrap;\n",
              "      gap: 12px;\n",
              "    }\n",
              "\n",
              "    .colab-df-convert {\n",
              "      background-color: #E8F0FE;\n",
              "      border: none;\n",
              "      border-radius: 50%;\n",
              "      cursor: pointer;\n",
              "      display: none;\n",
              "      fill: #1967D2;\n",
              "      height: 32px;\n",
              "      padding: 0 0 0 0;\n",
              "      width: 32px;\n",
              "    }\n",
              "\n",
              "    .colab-df-convert:hover {\n",
              "      background-color: #E2EBFA;\n",
              "      box-shadow: 0px 1px 2px rgba(60, 64, 67, 0.3), 0px 1px 3px 1px rgba(60, 64, 67, 0.15);\n",
              "      fill: #174EA6;\n",
              "    }\n",
              "\n",
              "    [theme=dark] .colab-df-convert {\n",
              "      background-color: #3B4455;\n",
              "      fill: #D2E3FC;\n",
              "    }\n",
              "\n",
              "    [theme=dark] .colab-df-convert:hover {\n",
              "      background-color: #434B5C;\n",
              "      box-shadow: 0px 1px 3px 1px rgba(0, 0, 0, 0.15);\n",
              "      filter: drop-shadow(0px 1px 2px rgba(0, 0, 0, 0.3));\n",
              "      fill: #FFFFFF;\n",
              "    }\n",
              "  </style>\n",
              "\n",
              "      <script>\n",
              "        const buttonEl =\n",
              "          document.querySelector('#df-6f4cc158-bc28-40ed-988b-fa7b889976d0 button.colab-df-convert');\n",
              "        buttonEl.style.display =\n",
              "          google.colab.kernel.accessAllowed ? 'block' : 'none';\n",
              "\n",
              "        async function convertToInteractive(key) {\n",
              "          const element = document.querySelector('#df-6f4cc158-bc28-40ed-988b-fa7b889976d0');\n",
              "          const dataTable =\n",
              "            await google.colab.kernel.invokeFunction('convertToInteractive',\n",
              "                                                     [key], {});\n",
              "          if (!dataTable) return;\n",
              "\n",
              "          const docLinkHtml = 'Like what you see? Visit the ' +\n",
              "            '<a target=\"_blank\" href=https://colab.research.google.com/notebooks/data_table.ipynb>data table notebook</a>'\n",
              "            + ' to learn more about interactive tables.';\n",
              "          element.innerHTML = '';\n",
              "          dataTable['output_type'] = 'display_data';\n",
              "          await google.colab.output.renderOutput(dataTable, element);\n",
              "          const docLink = document.createElement('div');\n",
              "          docLink.innerHTML = docLinkHtml;\n",
              "          element.appendChild(docLink);\n",
              "        }\n",
              "      </script>\n",
              "    </div>\n",
              "  </div>\n",
              "  "
            ]
          },
          "metadata": {},
          "execution_count": 81
        }
      ]
    },
    {
      "cell_type": "code",
      "source": [
        "new_df.info()"
      ],
      "metadata": {
        "colab": {
          "base_uri": "https://localhost:8080/"
        },
        "id": "9Dg5MuoTDTJH",
        "outputId": "90a3d5d9-8d5d-4df9-d370-8baab39a932b"
      },
      "execution_count": null,
      "outputs": [
        {
          "output_type": "stream",
          "name": "stdout",
          "text": [
            "<class 'pandas.core.frame.DataFrame'>\n",
            "RangeIndex: 233 entries, 0 to 232\n",
            "Data columns (total 2 columns):\n",
            " #   Column       Non-Null Count  Dtype \n",
            "---  ------       --------------  ----- \n",
            " 0   index        233 non-null    int64 \n",
            " 1   word_tweets  233 non-null    object\n",
            "dtypes: int64(1), object(1)\n",
            "memory usage: 3.8+ KB\n"
          ]
        }
      ]
    }
  ]
}